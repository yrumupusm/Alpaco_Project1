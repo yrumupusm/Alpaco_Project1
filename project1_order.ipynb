{
 "cells": [
  {
   "attachments": {},
   "cell_type": "markdown",
   "metadata": {},
   "source": [
    "### 기본 라이브러리 import 및 폰트 설정"
   ]
  },
  {
   "cell_type": "code",
   "execution_count": 53,
   "metadata": {},
   "outputs": [],
   "source": [
    "import matplotlib.pyplot as plt\n",
    "import seaborn as sns\n",
    "import pandas as pd\n",
    "import matplotlib.font_manager as fm\n",
    "plt.rcParams['font.family'] = 'Malgun Gothic'\n",
    "plt.rcParams['axes.unicode_minus'] = False"
   ]
  },
  {
   "attachments": {},
   "cell_type": "markdown",
   "metadata": {},
   "source": [
    "### 데이터 불러오기"
   ]
  },
  {
   "cell_type": "code",
   "execution_count": 54,
   "metadata": {},
   "outputs": [],
   "source": [
    "order = pd.read_csv('data/log_order.csv')\n",
    "member = pd.read_csv('data/master_member.csv')\n",
    "product = pd.read_csv('data/master_product.csv')"
   ]
  },
  {
   "attachments": {},
   "cell_type": "markdown",
   "metadata": {},
   "source": [
    "### 결측치 및 column 확인"
   ]
  },
  {
   "cell_type": "code",
   "execution_count": 55,
   "metadata": {},
   "outputs": [
    {
     "data": {
      "text/plain": [
       "결제수단              0\n",
       "공급원가             88\n",
       "교환구분              0\n",
       "네이버 포인트           0\n",
       "배송번호              0\n",
       "배송비 정보            0\n",
       "배송시작일             0\n",
       "배송완료일             0\n",
       "사용한 적립금액          0\n",
       "상품구매금액            0\n",
       "상품명              88\n",
       "상품번호             88\n",
       "상품별 추가할인금액        0\n",
       "수량                0\n",
       "수령인 주소            8\n",
       "주문 시 회원등급      3105\n",
       "주문경로              0\n",
       "주문번호              0\n",
       "주문일시              0\n",
       "주문자ID          3105\n",
       "카드사           30138\n",
       "쿠폰 할인금액           0\n",
       "판매가               0\n",
       "품목번호              0\n",
       "dtype: int64"
      ]
     },
     "execution_count": 55,
     "metadata": {},
     "output_type": "execute_result"
    }
   ],
   "source": [
    "order.isnull().sum()"
   ]
  },
  {
   "attachments": {},
   "cell_type": "markdown",
   "metadata": {},
   "source": [
    "### 배송기간 확인을 위한 order 데이터 전처리"
   ]
  },
  {
   "cell_type": "code",
   "execution_count": 56,
   "metadata": {},
   "outputs": [],
   "source": [
    "# 날짜 포멧 변환 (yyyy-mm-dd)\n",
    "order['배송시작일_dt'] = order['배송시작일'].apply(lambda x : str(x).split(' ')[0])\n",
    "order['배송완료일_dt'] = order['배송완료일'].apply(lambda x : str(x).split(' ')[0])\n",
    "order['주문일시_dt'] = order['주문일시'].apply(lambda x : str(x).split(' ')[0])"
   ]
  },
  {
   "cell_type": "code",
   "execution_count": 57,
   "metadata": {},
   "outputs": [
    {
     "data": {
      "text/plain": [
       "결제수단                  object\n",
       "공급원가                 float64\n",
       "교환구분                  object\n",
       "네이버 포인트                int64\n",
       "배송번호                  object\n",
       "배송비 정보                object\n",
       "배송시작일                 object\n",
       "배송완료일                 object\n",
       "사용한 적립금액               int64\n",
       "상품구매금액                 int64\n",
       "상품명                   object\n",
       "상품번호                 float64\n",
       "상품별 추가할인금액             int64\n",
       "수량                     int64\n",
       "수령인 주소                object\n",
       "주문 시 회원등급             object\n",
       "주문경로                  object\n",
       "주문번호                  object\n",
       "주문일시                  object\n",
       "주문자ID                 object\n",
       "카드사                   object\n",
       "쿠폰 할인금액                int64\n",
       "판매가                    int64\n",
       "품목번호                   int64\n",
       "배송시작일_dt      datetime64[ns]\n",
       "배송완료일_dt      datetime64[ns]\n",
       "주문일시_dt       datetime64[ns]\n",
       "dtype: object"
      ]
     },
     "execution_count": 57,
     "metadata": {},
     "output_type": "execute_result"
    }
   ],
   "source": [
    "# object > datetime 형 변환\n",
    "order['배송시작일_dt'] = pd.to_datetime(order['배송시작일_dt'])\n",
    "order['배송완료일_dt'] = pd.to_datetime(order['배송완료일_dt'])\n",
    "order['주문일시_dt'] = pd.to_datetime(order['주문일시_dt'])\n",
    "\n",
    "# 타입 확인\n",
    "order.dtypes"
   ]
  },
  {
   "cell_type": "code",
   "execution_count": 58,
   "metadata": {},
   "outputs": [],
   "source": [
    "# datetime > int 형변환\n",
    "order['배송기간'] = order['배송완료일_dt'] - order['배송시작일_dt']\n",
    "order['배송기간'] = order['배송기간'].dt.days"
   ]
  },
  {
   "cell_type": "code",
   "execution_count": 59,
   "metadata": {},
   "outputs": [
    {
     "data": {
      "text/plain": [
       "0         14\n",
       "1         59\n",
       "2        110\n",
       "3        158\n",
       "4      13082\n",
       "5      16512\n",
       "6       7329\n",
       "7       4059\n",
       "8       2130\n",
       "9       1193\n",
       "10       820\n",
       "11       509\n",
       "12       270\n",
       "13       160\n",
       "14        64\n",
       "15        56\n",
       "16        31\n",
       "17        22\n",
       "18        22\n",
       "19        23\n",
       "20        16\n",
       "21        22\n",
       "22        10\n",
       "23         6\n",
       "24         4\n",
       "25         3\n",
       "26         9\n",
       "27         2\n",
       "28        17\n",
       "29         5\n",
       "30         2\n",
       "31         2\n",
       "32         8\n",
       "33         1\n",
       "34         2\n",
       "35         2\n",
       "38         1\n",
       "39         2\n",
       "47         2\n",
       "51         1\n",
       "53         1\n",
       "68         1\n",
       "77         3\n",
       "90         1\n",
       "113        1\n",
       "147        1\n",
       "159        1\n",
       "Name: 배송기간전체, dtype: int64"
      ]
     },
     "execution_count": 59,
     "metadata": {},
     "output_type": "execute_result"
    }
   ],
   "source": [
    "# datetime > int 형변환\n",
    "order['배송기간전체'] = order['배송완료일_dt'] - order['주문일시_dt']\n",
    "order['배송기간전체'] = order['배송기간전체'].dt.days\n",
    "\n",
    "# 배송기간 별 count\n",
    "order['배송기간전체'].value_counts().sort_index()"
   ]
  },
  {
   "cell_type": "code",
   "execution_count": 60,
   "metadata": {},
   "outputs": [
    {
     "data": {
      "text/plain": [
       "2018    9382\n",
       "2019    6371\n",
       "2017    1061\n",
       "Name: 주문일시_dt, dtype: int64"
      ]
     },
     "execution_count": 60,
     "metadata": {},
     "output_type": "execute_result"
    }
   ],
   "source": [
    "# 배송기간 5일 이상인 거래 수 확인\n",
    "order[order['배송기간전체'] > 5]['주문일시_dt'].dt.year.value_counts()"
   ]
  },
  {
   "attachments": {},
   "cell_type": "markdown",
   "metadata": {},
   "source": [
    "### 상품 목록 확인"
   ]
  },
  {
   "cell_type": "code",
   "execution_count": 61,
   "metadata": {},
   "outputs": [],
   "source": [
    "# 사은품 데이터 제거\n",
    "order.drop(index=order[order['상품명'].str.contains('사은품') == True].index, axis=0, inplace=True)"
   ]
  },
  {
   "cell_type": "code",
   "execution_count": 62,
   "metadata": {},
   "outputs": [
    {
     "data": {
      "text/plain": [
       "0                     195파이 탕용기 소 300개 1set(2박스)\n",
       "3                  195파이 미니탕용기 투톤 300개 1set(2박스)\n",
       "5                         210파이 중화면용기 중 300개 1박스\n",
       "7                         210파이 중화면용기 소 300개 1박스\n",
       "8                         210파이 중화면용기 중 300개 1박스\n",
       "                          ...                   \n",
       "46736              사각 죽용기 소 550ml 500개 1set(2박스)\n",
       "46742    125파이 원형용기 대 450ml 백색 PP 600개 1set(2박스)\n",
       "46744                     PP 4칸 도시락용기 A 200개 1박스\n",
       "46745                    PP 6칸 도시락용기 02 200개 1박스\n",
       "46748    125파이 원형용기 중 350ml 백색 PP 600개 1set(2박스)\n",
       "Name: 상품명, Length: 24094, dtype: object"
      ]
     },
     "execution_count": 62,
     "metadata": {},
     "output_type": "execute_result"
    }
   ],
   "source": [
    "# 상품명에 '용기'가 포함된 것\n",
    "order[order['상품명'].str.contains('용기') == True]['상품명']"
   ]
  },
  {
   "cell_type": "code",
   "execution_count": 63,
   "metadata": {},
   "outputs": [
    {
     "data": {
      "text/plain": [
       "1         95파이 다용도컵 세트 4호 소 200ml 백색 PS 1,000개 1set(2박스)\n",
       "6        105파이 다용도컵 세트 5호 대 370ml 블랙 PS-1,000개 1set(2박스)\n",
       "12       105파이 다용도컵 세트 5호 대 370ml 블랙 PS-1,000개 1set(2박스)\n",
       "37       105파이 다용도컵 세트 5호 중 300ml 블랙 PS-1,000개 1set(2박스)\n",
       "47         70파이 다용도컵 세트 1호 소 70ml 백색 PS 3,000개 1set(2박스)\n",
       "                              ...                       \n",
       "46711              70파이 다용도컵 세트 1호(소/40ml)_투명/PS-100개 소량\n",
       "46712             70파이 다용도컵 세트 1호(특소/50ml)_백색/PS-100개 소량\n",
       "46720     95파이 다용도컵 세트 4호 소 200ml 백색 PS 1,000개 1set(2박스)\n",
       "46722     95파이 다용도컵 세트 4호 소 200ml 백색 PS 1,000개 1set(2박스)\n",
       "46733     95파이 다용도컵 세트 4호 대 270ml 백색 PS 1,000개 1set(2박스)\n",
       "Name: 상품명, Length: 6653, dtype: object"
      ]
     },
     "execution_count": 63,
     "metadata": {},
     "output_type": "execute_result"
    }
   ],
   "source": [
    "# 상품명에 '컵'이 포함된 것\n",
    "order[order['상품명'].str.contains('컵') == True]['상품명']"
   ]
  },
  {
   "cell_type": "code",
   "execution_count": 64,
   "metadata": {},
   "outputs": [
    {
     "data": {
      "text/plain": [
       "150 실링필름 Hold 150mm x 200 meter 투명 무지 4롤 1박스         323\n",
       "실링용기 2호 백색 1,150ml 800개 1박스                          228\n",
       "실링용기 3호 백색 650ml 1,200개 1박스                          226\n",
       "실링용기 3-5호 백색 500ml 1,200개 1박스                        120\n",
       "실링용기 2-5호 (21호) 백색 900ml 800개 1박스                    108\n",
       "                                                    ... \n",
       "실링용기 32호 반투명 2,000ml 600개 1박스                          1\n",
       "6/8 실링용기 6호 50개 + 배송비                                  1\n",
       "실링용기 71호 주황 2,200ml 400개 1박스                           1\n",
       "실링용기 23194-5A 백색 100개 1박스                              1\n",
       "PP 실링2호세트 반투명 (190mm x 137mm x H70mm), 800개(총2박스)      1\n",
       "Name: 상품명, Length: 143, dtype: int64"
      ]
     },
     "execution_count": 64,
     "metadata": {},
     "output_type": "execute_result"
    }
   ],
   "source": [
    "# 상품명에 '실링'이 포함된 것\n",
    "order[order['상품명'].str.contains('실링') == True]['상품명'].value_counts()"
   ]
  },
  {
   "cell_type": "code",
   "execution_count": 65,
   "metadata": {},
   "outputs": [
    {
     "data": {
      "text/plain": [
       "250파이 원형 접시 미니 블랙 400개 1박스                           598\n",
       "175mm 수저 백색 1,500개  맛있숟갈                             392\n",
       "300파이 원형 접시 대 블랙 200개 1박스                            338\n",
       "150 실링필름 Hold 150mm x 200 meter 투명 무지 4롤 1박스         323\n",
       "198mm (7치) 대나무젓가락 1,500개 끝내젓갈                        297\n",
       "                                                    ... \n",
       "누드 케찹병 대 10개(1BOX)                                     1\n",
       "위생초장병 대 10개(1BOX)                                      1\n",
       "225파이 뚜껑 200개 1BOX                                     1\n",
       "웰빙 안새내 대 10개(1BOX)                                     1\n",
       "PP 실링2호세트 반투명 (190mm x 137mm x H70mm), 800개(총2박스)      1\n",
       "Name: 상품명, Length: 273, dtype: int64"
      ]
     },
     "execution_count": 65,
     "metadata": {},
     "output_type": "execute_result"
    }
   ],
   "source": [
    "# 상품명에 '컵'과 '용기'가 포함된 것\n",
    "order[(order['상품명'].str.contains('컵') == False) & (order['상품명'].str.contains('용기') == False)]['상품명'].value_counts()"
   ]
  },
  {
   "attachments": {},
   "cell_type": "markdown",
   "metadata": {},
   "source": [
    "### 주문경로 확인"
   ]
  },
  {
   "cell_type": "code",
   "execution_count": 66,
   "metadata": {},
   "outputs": [
    {
     "data": {
      "text/plain": [
       "PC쇼핑몰     20754\n",
       "모바일웹      15284\n",
       "네이버 페이     2523\n",
       "Name: 주문경로, dtype: int64"
      ]
     },
     "execution_count": 66,
     "metadata": {},
     "output_type": "execute_result"
    }
   ],
   "source": [
    "# 주문경로 많은 순으로 정렬\n",
    "order['주문경로'].value_counts()"
   ]
  },
  {
   "attachments": {},
   "cell_type": "markdown",
   "metadata": {},
   "source": [
    "### 주문방법(카드) 확인"
   ]
  },
  {
   "cell_type": "code",
   "execution_count": 67,
   "metadata": {},
   "outputs": [
    {
     "data": {
      "text/plain": [
       "기타               1491\n",
       "삼성                995\n",
       "신한(구.LG카드 포함)     772\n",
       "현대                622\n",
       "비씨                539\n",
       "국민                450\n",
       "NH (농협)           345\n",
       "롯데                249\n",
       "하나SK              102\n",
       "외환                 60\n",
       "씨티                 32\n",
       "카카오뱅크              23\n",
       "광주                 11\n",
       "신한                  5\n",
       "제주                  4\n",
       "신협                  4\n",
       "수협                  3\n",
       "국내아멕스               3\n",
       "전북                  2\n",
       "Name: 카드사, dtype: int64"
      ]
     },
     "execution_count": 67,
     "metadata": {},
     "output_type": "execute_result"
    }
   ],
   "source": [
    "# 카드사를 주문 많은 순으로 정렬\n",
    "order[order['배송기간전체'] > 5]['카드사'].value_counts() # .str.split(' ').str[0].value_counts()"
   ]
  },
  {
   "attachments": {},
   "cell_type": "markdown",
   "metadata": {},
   "source": [
    "### 배송기간 column 생성"
   ]
  },
  {
   "cell_type": "code",
   "execution_count": 68,
   "metadata": {},
   "outputs": [
    {
     "data": {
      "text/plain": [
       "0        4\n",
       "1        4\n",
       "2        4\n",
       "3        4\n",
       "4        4\n",
       "        ..\n",
       "46744    4\n",
       "46745    4\n",
       "46746    5\n",
       "46747    3\n",
       "46748    4\n",
       "Name: 배송기간, Length: 38561, dtype: int64"
      ]
     },
     "execution_count": 68,
     "metadata": {},
     "output_type": "execute_result"
    }
   ],
   "source": [
    "# 배송기간 5일 미만과 5일 이상으로 설정\n",
    "delivery_period = order['배송기간'].apply(lambda x : x if x < 5 else 5)\n",
    "delivery_period"
   ]
  },
  {
   "cell_type": "code",
   "execution_count": 69,
   "metadata": {},
   "outputs": [
    {
     "data": {
      "text/plain": [
       "0      119\n",
       "1      153\n",
       "2      179\n",
       "3      148\n",
       "4    35341\n",
       "5     2621\n",
       "Name: 배송기간, dtype: int64"
      ]
     },
     "execution_count": 69,
     "metadata": {},
     "output_type": "execute_result"
    }
   ],
   "source": [
    "# 배송기간별 주문 수 확인\n",
    "delivery_period_count = delivery_period.value_counts().sort_index()\n",
    "delivery_period_count"
   ]
  },
  {
   "cell_type": "code",
   "execution_count": 70,
   "metadata": {},
   "outputs": [
    {
     "data": {
      "text/plain": [
       "0     119\n",
       "1     153\n",
       "2     179\n",
       "3     148\n",
       "5    2621\n",
       "Name: 배송기간, dtype: int64"
      ]
     },
     "execution_count": 70,
     "metadata": {},
     "output_type": "execute_result"
    }
   ],
   "source": [
    "# 배송기간이 4일인 데이터 제거(따로 비교)\n",
    "delivery_period_count_drop4 = delivery_period_count.drop(4)\n",
    "delivery_period_count_drop4"
   ]
  },
  {
   "attachments": {},
   "cell_type": "markdown",
   "metadata": {},
   "source": [
    "### 배송기간 시각화"
   ]
  },
  {
   "cell_type": "code",
   "execution_count": 71,
   "metadata": {},
   "outputs": [
    {
     "data": {
      "image/png": "[encoded data removed]",
      "text/plain": [
       "<Figure size 640x480 with 1 Axes>"
      ]
     },
     "metadata": {},
     "output_type": "display_data"
    }
   ],
   "source": [
    "# pie plot 설정\n",
    "plt.pie(delivery_period_count, autopct='%1.1f%%')\n",
    "plt.title('배송기간')\n",
    "plt.show()"
   ]
  },
  {
   "cell_type": "code",
   "execution_count": 72,
   "metadata": {},
   "outputs": [
    {
     "data": {
      "image/png": "[encoded data removed]",
      "text/plain": [
       "<Figure size 640x480 with 1 Axes>"
      ]
     },
     "metadata": {},
     "output_type": "display_data"
    }
   ],
   "source": [
    "# pie plot 설정(4일 제외)\n",
    "plt.pie(delivery_period_count_drop4, labels = ['당일', '1일 이내', '2일 이내', '3일 이내', '5일 이상'], autopct='%1.1f%%')\n",
    "plt.show()"
   ]
  },
  {
   "attachments": {},
   "cell_type": "markdown",
   "metadata": {},
   "source": [
    "### 배송기간 설정"
   ]
  },
  {
   "cell_type": "code",
   "execution_count": 73,
   "metadata": {},
   "outputs": [],
   "source": [
    "# 열 생성\n",
    "order['배송일_year'] = order['배송완료일_dt'].dt.year"
   ]
  },
  {
   "cell_type": "code",
   "execution_count": 74,
   "metadata": {},
   "outputs": [],
   "source": [
    "# 열 생성 (5일 초과)\n",
    "order['배송기간_5일이상'] = order['배송기간'] > 5"
   ]
  },
  {
   "cell_type": "code",
   "execution_count": 75,
   "metadata": {},
   "outputs": [],
   "source": [
    "# 열 생성 (4일 미만)\n",
    "order['배송기간_4일미만'] = order['배송기간'] < 4"
   ]
  },
  {
   "cell_type": "code",
   "execution_count": 76,
   "metadata": {},
   "outputs": [
    {
     "data": {
      "text/plain": [
       "배송일_year\n",
       "2017    866\n",
       "2018    958\n",
       "2019    575\n",
       "Name: 배송기간_5일이상, dtype: int64"
      ]
     },
     "execution_count": 76,
     "metadata": {},
     "output_type": "execute_result"
    }
   ],
   "source": [
    "# 연도별 배송기간 5일 초과 갯수\n",
    "order.groupby('배송일_year')['배송기간_5일이상'].sum()"
   ]
  },
  {
   "cell_type": "code",
   "execution_count": 77,
   "metadata": {},
   "outputs": [
    {
     "data": {
      "text/plain": [
       "배송일_year\n",
       "2017    177\n",
       "2018    241\n",
       "2019    181\n",
       "Name: 배송기간_4일미만, dtype: int64"
      ]
     },
     "execution_count": 77,
     "metadata": {},
     "output_type": "execute_result"
    }
   ],
   "source": [
    "# 연도별 배송기간 4일 미만 갯수\n",
    "order.groupby('배송일_year')['배송기간_4일미만'].sum()"
   ]
  },
  {
   "cell_type": "code",
   "execution_count": 78,
   "metadata": {},
   "outputs": [],
   "source": [
    "# 배송 시작일 시간순으로 정렬\n",
    "order_time_accending = order.copy()\n",
    "order_time_accending = order_time_accending.sort_values(['배송시작일_dt'])"
   ]
  },
  {
   "cell_type": "code",
   "execution_count": 79,
   "metadata": {},
   "outputs": [],
   "source": [
    "# 연도별 배송 시작일 변수 생성\n",
    "order_time_accending_2017 = order_time_accending[order_time_accending['배송시작일_dt'].dt.year == 2017]\n",
    "order_time_accending_2018 = order_time_accending[order_time_accending['배송시작일_dt'].dt.year == 2018]\n",
    "order_time_accending_2019 = order_time_accending[order_time_accending['배송시작일_dt'].dt.year == 2019]"
   ]
  },
  {
   "cell_type": "code",
   "execution_count": 80,
   "metadata": {},
   "outputs": [
    {
     "name": "stderr",
     "output_type": "stream",
     "text": [
      "C:\\Users\\jhc74\\AppData\\Local\\Temp\\ipykernel_24292\\1874082738.py:2: SettingWithCopyWarning: \n",
      "A value is trying to be set on a copy of a slice from a DataFrame.\n",
      "Try using .loc[row_indexer,col_indexer] = value instead\n",
      "\n",
      "See the caveats in the documentation: https://pandas.pydata.org/pandas-docs/stable/user_guide/indexing.html#returning-a-view-versus-a-copy\n",
      "  order_time_accending_2017['배송시작일_dt_month'] = order_time_accending_2017['배송시작일_dt'].dt.month\n",
      "C:\\Users\\jhc74\\AppData\\Local\\Temp\\ipykernel_24292\\1874082738.py:3: SettingWithCopyWarning: \n",
      "A value is trying to be set on a copy of a slice from a DataFrame.\n",
      "Try using .loc[row_indexer,col_indexer] = value instead\n",
      "\n",
      "See the caveats in the documentation: https://pandas.pydata.org/pandas-docs/stable/user_guide/indexing.html#returning-a-view-versus-a-copy\n",
      "  order_time_accending_2018['배송시작일_dt_month'] = order_time_accending_2018['배송시작일_dt'].dt.month\n",
      "C:\\Users\\jhc74\\AppData\\Local\\Temp\\ipykernel_24292\\1874082738.py:4: SettingWithCopyWarning: \n",
      "A value is trying to be set on a copy of a slice from a DataFrame.\n",
      "Try using .loc[row_indexer,col_indexer] = value instead\n",
      "\n",
      "See the caveats in the documentation: https://pandas.pydata.org/pandas-docs/stable/user_guide/indexing.html#returning-a-view-versus-a-copy\n",
      "  order_time_accending_2019['배송시작일_dt_month'] = order_time_accending_2019['배송시작일_dt'].dt.month\n"
     ]
    }
   ],
   "source": [
    "# 연도별 배송 시작일 형 변환(datetime > int) 후 새로운 column으로 생성\n",
    "order_time_accending_2017['배송시작일_dt_month'] = order_time_accending_2017['배송시작일_dt'].dt.month\n",
    "order_time_accending_2018['배송시작일_dt_month'] = order_time_accending_2018['배송시작일_dt'].dt.month\n",
    "order_time_accending_2019['배송시작일_dt_month'] = order_time_accending_2019['배송시작일_dt'].dt.month"
   ]
  },
  {
   "cell_type": "code",
   "execution_count": 81,
   "metadata": {},
   "outputs": [
    {
     "data": {
      "text/plain": [
       "159      1\n",
       "154      1\n",
       "157      1\n",
       "156      1\n",
       "155      1\n",
       "        ..\n",
       "17485    5\n",
       "17486    5\n",
       "17487    5\n",
       "17488    5\n",
       "17481    5\n",
       "Name: 배송시작일_dt_month, Length: 17557, dtype: int64"
      ]
     },
     "execution_count": 81,
     "metadata": {},
     "output_type": "execute_result"
    }
   ],
   "source": [
    "# 2019년 6월 데이터 부족으로 삭제\n",
    "order_time_accending_2019 = order_time_accending_2019.drop(order_time_accending_2019[order_time_accending_2019['배송시작일_dt_month'] == 6].index)\n",
    "order_time_accending_2019['배송시작일_dt_month']"
   ]
  },
  {
   "cell_type": "code",
   "execution_count": 82,
   "metadata": {},
   "outputs": [
    {
     "data": {
      "text/plain": [
       "배송시작일_dt_month\n",
       "1       174200\n",
       "2      1222085\n",
       "3      2606975\n",
       "4      2799410\n",
       "5      7359330\n",
       "6      7664720\n",
       "7      8360990\n",
       "8      7274440\n",
       "9      9324320\n",
       "10     8479100\n",
       "11    15394700\n",
       "12    17961130\n",
       "Name: 판매가, dtype: int64"
      ]
     },
     "execution_count": 82,
     "metadata": {},
     "output_type": "execute_result"
    }
   ],
   "source": [
    "# 2017년도 월별 판매금액 합계\n",
    "order_time_accending_2017.groupby('배송시작일_dt_month')['판매가'].sum()"
   ]
  },
  {
   "cell_type": "code",
   "execution_count": 83,
   "metadata": {},
   "outputs": [
    {
     "data": {
      "text/plain": [
       "61300.784982935154"
      ]
     },
     "execution_count": 83,
     "metadata": {},
     "output_type": "execute_result"
    }
   ],
   "source": [
    "# 2017년도 12월 판매금액 평균\n",
    "order_time_accending_2017[order_time_accending_2017['배송시작일_dt_month'] == 12]['판매가'].mean()"
   ]
  },
  {
   "attachments": {},
   "cell_type": "markdown",
   "metadata": {},
   "source": [
    "### 데이터 시각화"
   ]
  },
  {
   "cell_type": "code",
   "execution_count": 84,
   "metadata": {},
   "outputs": [
    {
     "data": {
      "image/png": "[encoded data removed]",
      "text/plain": [
       "<Figure size 2000x1200 with 6 Axes>"
      ]
     },
     "metadata": {},
     "output_type": "display_data"
    }
   ],
   "source": [
    "# 연도별 배송량 막대그래프\n",
    "fig = plt.figure(figsize=(20,12))\n",
    "\n",
    "ax1 = fig.add_subplot(2,3,1)\n",
    "ax1.hist(order_time_accending_2017['배송시작일_dt'], bins=12)\n",
    "ax1.set_ylabel('배송량')\n",
    "\n",
    "ax2 = fig.add_subplot(2,3,2)\n",
    "ax2.hist(order_time_accending_2018['배송시작일_dt'], bins=12)\n",
    "ax2.set_xlabel('날짜')\n",
    "\n",
    "plt.title('연도별 배송량', size=16)\n",
    "\n",
    "ax3 = fig.add_subplot(2,3,3)\n",
    "ax3.hist(order_time_accending_2019['배송시작일_dt'], bins=12)\n",
    "\n",
    "# 연도별 월별 매출금액 막대 그래프\n",
    "ax4 = fig.add_subplot(2,3,4)\n",
    "ax4.bar(order_time_accending_2017.groupby('배송시작일_dt_month')['판매가'].sum().index, order_time_accending_2017.groupby('배송시작일_dt_month')['판매가'].sum().values)\n",
    "ax4.set_xticks(range(1,13,1))\n",
    "ax4.set_xlabel('2017년 (단위: 월)')\n",
    "ax4.set_ylabel('매출액 (단위: 백만)')\n",
    "\n",
    "ax4 = fig.add_subplot(2,3,5)\n",
    "ax4.bar(order_time_accending_2018.groupby('배송시작일_dt_month')['판매가'].sum().index, order_time_accending_2018.groupby('배송시작일_dt_month')['판매가'].sum().values)\n",
    "ax4.set_xticks(range(1,13,1))\n",
    "ax4.set_xlabel('2018년 (단위: 월)')\n",
    "ax4.set_ylabel('매출액 (단위: 천만)')\n",
    "\n",
    "plt.title('연도별 월별 매출금액', size=16)\n",
    "\n",
    "ax4 = fig.add_subplot(2,3,6)\n",
    "ax4.bar(order_time_accending_2019.groupby('배송시작일_dt_month')['판매가'].sum().index, order_time_accending_2019.groupby('배송시작일_dt_month')['판매가'].sum().values)\n",
    "ax4.set_xticks(range(1,7,1))\n",
    "ax4.set_xlabel('2019년 (단위: 월)')\n",
    "ax4.set_ylabel('매출액 (단위: 천만)')\n",
    "\n",
    "plt.show()"
   ]
  },
  {
   "cell_type": "code",
   "execution_count": 85,
   "metadata": {},
   "outputs": [
    {
     "data": {
      "image/png": "[encoded data removed]",
      "text/plain": [
       "<Figure size 1800x600 with 3 Axes>"
      ]
     },
     "metadata": {},
     "output_type": "display_data"
    }
   ],
   "source": [
    "# 연도별 월별 매출금액 선그래프\n",
    "fig = plt.figure(figsize=(18,6))\n",
    "\n",
    "ax = fig.add_subplot(1,3,1)\n",
    "ax.plot(order_time_accending_2017.groupby('배송시작일_dt_month')['판매가'].sum().index, order_time_accending_2017.groupby('배송시작일_dt_month')['판매가'].sum().values)\n",
    "ax.set_xticks(range(1,13,1))\n",
    "ax.set_xlabel('2017년 (단위: 월)', fontsize=12)\n",
    "ax.set_ylabel('매출액 (단위: 백만)', fontsize=12)\n",
    "\n",
    "ax = fig.add_subplot(1,3,2)\n",
    "ax.plot(order_time_accending_2018.groupby('배송시작일_dt_month')['판매가'].sum().index, order_time_accending_2018.groupby('배송시작일_dt_month')['판매가'].sum().values)\n",
    "ax.set_xticks(range(1,13,1))\n",
    "ax.set_xlabel('2018년 (단위: 월)', fontsize=12)\n",
    "ax.set_ylabel('매출액 (단위: 천만)', fontsize=12)\n",
    "\n",
    "plt.title('연도별 월별 매출금액', size=16)\n",
    "\n",
    "ax = fig.add_subplot(1,3,3)\n",
    "ax.plot(order_time_accending_2019.groupby('배송시작일_dt_month')['판매가'].sum().index, order_time_accending_2019.groupby('배송시작일_dt_month')['판매가'].sum().values)\n",
    "ax.set_xticks(range(1,7,1))\n",
    "ax.set_yticks(range(0,270000000,50000000))\n",
    "ax.set_xlabel('2019년 (단위: 월)', fontsize=12)\n",
    "ax.set_ylabel('매출액 (단위: 천만)', fontsize=12)\n",
    "\n",
    "plt.tight_layout()\n",
    "plt.show()"
   ]
  },
  {
   "attachments": {},
   "cell_type": "markdown",
   "metadata": {},
   "source": [
    "### 주소 데이터 확인"
   ]
  },
  {
   "cell_type": "code",
   "execution_count": 86,
   "metadata": {},
   "outputs": [
    {
     "data": {
      "text/plain": [
       "경기도        133\n",
       "서울특별시       83\n",
       "대구광역시       50\n",
       "충청남도        46\n",
       "부산광역시       45\n",
       "전라북도        27\n",
       "인천광역시       26\n",
       "충청북도        26\n",
       "경상북도        25\n",
       "광주광역시       24\n",
       "경상남도        23\n",
       "대전광역시       22\n",
       "울산광역시       21\n",
       "전라남도        20\n",
       "강원도         16\n",
       "경기           4\n",
       "서울           3\n",
       "세종특별자치시      3\n",
       "경남           1\n",
       "제주특별자치도      1\n",
       "Name: 수령인 주소, dtype: int64"
      ]
     },
     "execution_count": 86,
     "metadata": {},
     "output_type": "execute_result"
    }
   ],
   "source": [
    "# 짧은 배송기간 데이터 주소지 확인\n",
    "early = order[['배송기간_4일미만', '수령인 주소']]\n",
    "early[early['배송기간_4일미만'] == True]['수령인 주소'].str.split(' ').str[0].value_counts()"
   ]
  },
  {
   "attachments": {},
   "cell_type": "markdown",
   "metadata": {},
   "source": [
    "### 주문자 데이터 확인"
   ]
  },
  {
   "cell_type": "code",
   "execution_count": 87,
   "metadata": {},
   "outputs": [
    {
     "data": {
      "text/plain": [
       "주문자ID\n",
       "776646558@k    20301900\n",
       "mission1013    17331450\n",
       "leemansome     15331070\n",
       "pp257          14534220\n",
       "jsckorea12     14309730\n",
       "                 ...   \n",
       "pp773              3480\n",
       "pp567              1320\n",
       "pp197                 0\n",
       "39706335@n            0\n",
       "down9048              0\n",
       "Name: 판매가, Length: 4951, dtype: int64"
      ]
     },
     "execution_count": 87,
     "metadata": {},
     "output_type": "execute_result"
    }
   ],
   "source": [
    "# 주문자별 판매금액 합계\n",
    "order.groupby('주문자ID')['판매가'].sum().sort_values(ascending=False)"
   ]
  },
  {
   "cell_type": "code",
   "execution_count": 88,
   "metadata": {},
   "outputs": [
    {
     "data": {
      "text/plain": [
       "Index(['ID', '판매가'], dtype='object')"
      ]
     },
     "execution_count": 88,
     "metadata": {},
     "output_type": "execute_result"
    }
   ],
   "source": [
    "# 주문자별 판매금액 데이터 생성\n",
    "order_sale_sum = order.groupby('주문자ID', as_index=False)['판매가'].sum()\n",
    "order_sale_sum.columns = ['ID', '판매가']\n",
    "\n",
    "# 열 확인\n",
    "order_sale_sum.columns"
   ]
  },
  {
   "cell_type": "code",
   "execution_count": 89,
   "metadata": {},
   "outputs": [
    {
     "data": {
      "text/html": [
       "<div>\n",
       "<style scoped>\n",
       "    .dataframe tbody tr th:only-of-type {\n",
       "        vertical-align: middle;\n",
       "    }\n",
       "\n",
       "    .dataframe tbody tr th {\n",
       "        vertical-align: top;\n",
       "    }\n",
       "\n",
       "    .dataframe thead th {\n",
       "        text-align: right;\n",
       "    }\n",
       "</style>\n",
       "<table border=\"1\" class=\"dataframe\">\n",
       "  <thead>\n",
       "    <tr style=\"text-align: right;\">\n",
       "      <th></th>\n",
       "      <th>ID</th>\n",
       "      <th>판매가</th>\n",
       "      <th>나이</th>\n",
       "      <th>사용가능 적립금</th>\n",
       "      <th>성별</th>\n",
       "      <th>주소(동/읍/면)</th>\n",
       "      <th>최종접속일</th>\n",
       "      <th>최종주문일</th>\n",
       "      <th>유입경로</th>\n",
       "      <th>유입기기</th>\n",
       "      <th>회원 가입일</th>\n",
       "      <th>사업자구분</th>\n",
       "      <th>회원구분</th>\n",
       "    </tr>\n",
       "  </thead>\n",
       "  <tbody>\n",
       "    <tr>\n",
       "      <th>0</th>\n",
       "      <td>sr7577</td>\n",
       "      <td>NaN</td>\n",
       "      <td>45</td>\n",
       "      <td>0</td>\n",
       "      <td>남자</td>\n",
       "      <td>경기도 평택시 현신3길 76 (용이동)</td>\n",
       "      <td>2016-12-30 오후 5:57</td>\n",
       "      <td>NaN</td>\n",
       "      <td>블로그광고</td>\n",
       "      <td>PC</td>\n",
       "      <td>2016-12-30</td>\n",
       "      <td>개인</td>\n",
       "      <td>일반</td>\n",
       "    </tr>\n",
       "    <tr>\n",
       "      <th>1</th>\n",
       "      <td>cgh1385</td>\n",
       "      <td>66500.0</td>\n",
       "      <td>53</td>\n",
       "      <td>0</td>\n",
       "      <td>남자</td>\n",
       "      <td>전라북도 전주시 덕진구 동부대로 879 (호성동1가)</td>\n",
       "      <td>2017-01-02 오후 12:32</td>\n",
       "      <td>2017-01-01 오후 3:38</td>\n",
       "      <td>블로그광고</td>\n",
       "      <td>모바일</td>\n",
       "      <td>2017-01-01</td>\n",
       "      <td>개인</td>\n",
       "      <td>일반</td>\n",
       "    </tr>\n",
       "    <tr>\n",
       "      <th>2</th>\n",
       "      <td>pjkl77</td>\n",
       "      <td>51000.0</td>\n",
       "      <td>28</td>\n",
       "      <td>0</td>\n",
       "      <td>남자</td>\n",
       "      <td>전라북도 전주시 완산구 효자동3가 1676-13</td>\n",
       "      <td>2017-02-26 오후 10:52</td>\n",
       "      <td>2017-02-26 오후 10:55</td>\n",
       "      <td>이메일광고</td>\n",
       "      <td>PC</td>\n",
       "      <td>2017-01-14</td>\n",
       "      <td>사업자</td>\n",
       "      <td>사업자</td>\n",
       "    </tr>\n",
       "    <tr>\n",
       "      <th>3</th>\n",
       "      <td>aabb8482</td>\n",
       "      <td>NaN</td>\n",
       "      <td>44</td>\n",
       "      <td>0</td>\n",
       "      <td>여자</td>\n",
       "      <td>충청남도 아산시 용화고길 46 (용화동)</td>\n",
       "      <td>2017-01-23 오후 6:25</td>\n",
       "      <td>NaN</td>\n",
       "      <td>블로그광고</td>\n",
       "      <td>PC</td>\n",
       "      <td>2017-01-17</td>\n",
       "      <td>사업자</td>\n",
       "      <td>사업자</td>\n",
       "    </tr>\n",
       "    <tr>\n",
       "      <th>4</th>\n",
       "      <td>bear011</td>\n",
       "      <td>1879670.0</td>\n",
       "      <td>40</td>\n",
       "      <td>21908</td>\n",
       "      <td>남자</td>\n",
       "      <td>경기도 부천시 원미구 상일로 126 (상동)</td>\n",
       "      <td>2018-12-19 오후 1:26</td>\n",
       "      <td>2018-12-19 오후 1:29</td>\n",
       "      <td>SNS광고</td>\n",
       "      <td>모바일</td>\n",
       "      <td>2017-01-17</td>\n",
       "      <td>사업자</td>\n",
       "      <td>사업자</td>\n",
       "    </tr>\n",
       "    <tr>\n",
       "      <th>...</th>\n",
       "      <td>...</td>\n",
       "      <td>...</td>\n",
       "      <td>...</td>\n",
       "      <td>...</td>\n",
       "      <td>...</td>\n",
       "      <td>...</td>\n",
       "      <td>...</td>\n",
       "      <td>...</td>\n",
       "      <td>...</td>\n",
       "      <td>...</td>\n",
       "      <td>...</td>\n",
       "      <td>...</td>\n",
       "      <td>...</td>\n",
       "    </tr>\n",
       "    <tr>\n",
       "      <th>6570</th>\n",
       "      <td>pp1730</td>\n",
       "      <td>55870.0</td>\n",
       "      <td>31</td>\n",
       "      <td>1000</td>\n",
       "      <td>남자</td>\n",
       "      <td>경기도 의정부시 동일로454번길 40 (신곡동)</td>\n",
       "      <td>2019-05-31 오후 4:38</td>\n",
       "      <td>2019-05-31 오후 4:30</td>\n",
       "      <td>유튜브광고</td>\n",
       "      <td>PC</td>\n",
       "      <td>2019-05-31</td>\n",
       "      <td>개인</td>\n",
       "      <td>전화주문 고객</td>\n",
       "    </tr>\n",
       "    <tr>\n",
       "      <th>6571</th>\n",
       "      <td>jsuee8228</td>\n",
       "      <td>NaN</td>\n",
       "      <td>45</td>\n",
       "      <td>1000</td>\n",
       "      <td>남자</td>\n",
       "      <td>경상북도 구미시 산호대로29길 7-7 (옥계동)</td>\n",
       "      <td>2019-06-21 오후 9:38</td>\n",
       "      <td>NaN</td>\n",
       "      <td>전단지광고</td>\n",
       "      <td>PC</td>\n",
       "      <td>2019-06-05</td>\n",
       "      <td>사업자</td>\n",
       "      <td>일반</td>\n",
       "    </tr>\n",
       "    <tr>\n",
       "      <th>6572</th>\n",
       "      <td>aaok0204</td>\n",
       "      <td>NaN</td>\n",
       "      <td>47</td>\n",
       "      <td>1000</td>\n",
       "      <td>남자</td>\n",
       "      <td>경상남도 창원시 의창구 북면 무동로267번길 10</td>\n",
       "      <td>2019-06-12 오후 7:59</td>\n",
       "      <td>NaN</td>\n",
       "      <td>인터넷검색</td>\n",
       "      <td>모바일</td>\n",
       "      <td>2019-06-12</td>\n",
       "      <td>사업자</td>\n",
       "      <td>일반</td>\n",
       "    </tr>\n",
       "    <tr>\n",
       "      <th>6573</th>\n",
       "      <td>aaok02044</td>\n",
       "      <td>113300.0</td>\n",
       "      <td>46</td>\n",
       "      <td>1000</td>\n",
       "      <td>남자</td>\n",
       "      <td>경상남도 창원시 의창구 북면 무동로267번길 10</td>\n",
       "      <td>2019-06-19 오전 10:59</td>\n",
       "      <td>2019-06-19 오전 11:18</td>\n",
       "      <td>인터넷검색</td>\n",
       "      <td>모바일</td>\n",
       "      <td>2019-06-19</td>\n",
       "      <td>사업자</td>\n",
       "      <td>일반</td>\n",
       "    </tr>\n",
       "    <tr>\n",
       "      <th>6574</th>\n",
       "      <td>bangha36</td>\n",
       "      <td>NaN</td>\n",
       "      <td>47</td>\n",
       "      <td>1000</td>\n",
       "      <td>남자</td>\n",
       "      <td>서울특별시 서초구 서초동 1647-2</td>\n",
       "      <td>2019-06-21 오후 6:16</td>\n",
       "      <td>NaN</td>\n",
       "      <td>인터넷검색</td>\n",
       "      <td>PC</td>\n",
       "      <td>2019-06-21</td>\n",
       "      <td>사업자</td>\n",
       "      <td>일반</td>\n",
       "    </tr>\n",
       "  </tbody>\n",
       "</table>\n",
       "<p>6575 rows × 13 columns</p>\n",
       "</div>"
      ],
      "text/plain": [
       "             ID        판매가  나이  사용가능 적립금  성별                      주소(동/읍/면)  \\\n",
       "0        sr7577        NaN  45         0  남자          경기도 평택시 현신3길 76 (용이동)   \n",
       "1       cgh1385    66500.0  53         0  남자  전라북도 전주시 덕진구 동부대로 879 (호성동1가)   \n",
       "2        pjkl77    51000.0  28         0  남자     전라북도 전주시 완산구 효자동3가 1676-13   \n",
       "3      aabb8482        NaN  44         0  여자         충청남도 아산시 용화고길 46 (용화동)   \n",
       "4       bear011  1879670.0  40     21908  남자       경기도 부천시 원미구 상일로 126 (상동)   \n",
       "...         ...        ...  ..       ...  ..                            ...   \n",
       "6570     pp1730    55870.0  31      1000  남자     경기도 의정부시 동일로454번길 40 (신곡동)   \n",
       "6571  jsuee8228        NaN  45      1000  남자     경상북도 구미시 산호대로29길 7-7 (옥계동)   \n",
       "6572   aaok0204        NaN  47      1000  남자    경상남도 창원시 의창구 북면 무동로267번길 10   \n",
       "6573  aaok02044   113300.0  46      1000  남자    경상남도 창원시 의창구 북면 무동로267번길 10   \n",
       "6574   bangha36        NaN  47      1000  남자           서울특별시 서초구 서초동 1647-2   \n",
       "\n",
       "                    최종접속일                최종주문일   유입경로 유입기기      회원 가입일 사업자구분  \\\n",
       "0      2016-12-30 오후 5:57                  NaN  블로그광고   PC  2016-12-30    개인   \n",
       "1     2017-01-02 오후 12:32   2017-01-01 오후 3:38  블로그광고  모바일  2017-01-01    개인   \n",
       "2     2017-02-26 오후 10:52  2017-02-26 오후 10:55  이메일광고   PC  2017-01-14   사업자   \n",
       "3      2017-01-23 오후 6:25                  NaN  블로그광고   PC  2017-01-17   사업자   \n",
       "4      2018-12-19 오후 1:26   2018-12-19 오후 1:29  SNS광고  모바일  2017-01-17   사업자   \n",
       "...                   ...                  ...    ...  ...         ...   ...   \n",
       "6570   2019-05-31 오후 4:38   2019-05-31 오후 4:30  유튜브광고   PC  2019-05-31    개인   \n",
       "6571   2019-06-21 오후 9:38                  NaN  전단지광고   PC  2019-06-05   사업자   \n",
       "6572   2019-06-12 오후 7:59                  NaN  인터넷검색  모바일  2019-06-12   사업자   \n",
       "6573  2019-06-19 오전 10:59  2019-06-19 오전 11:18  인터넷검색  모바일  2019-06-19   사업자   \n",
       "6574   2019-06-21 오후 6:16                  NaN  인터넷검색   PC  2019-06-21   사업자   \n",
       "\n",
       "         회원구분  \n",
       "0          일반  \n",
       "1          일반  \n",
       "2         사업자  \n",
       "3         사업자  \n",
       "4         사업자  \n",
       "...       ...  \n",
       "6570  전화주문 고객  \n",
       "6571       일반  \n",
       "6572       일반  \n",
       "6573       일반  \n",
       "6574       일반  \n",
       "\n",
       "[6575 rows x 13 columns]"
      ]
     },
     "execution_count": 89,
     "metadata": {},
     "output_type": "execute_result"
    }
   ],
   "source": [
    "# 회원 데이터와 주문자별 판매금액 데이터 merge\n",
    "merge_id_sale = pd.merge(order_sale_sum, member, how='right')\n",
    "merge_id_sale"
   ]
  },
  {
   "cell_type": "code",
   "execution_count": 90,
   "metadata": {},
   "outputs": [
    {
     "data": {
      "text/plain": [
       "0       45_50\n",
       "1         50_\n",
       "2       25_30\n",
       "3       40_45\n",
       "4       40_45\n",
       "        ...  \n",
       "6570    30_35\n",
       "6571    45_50\n",
       "6572    45_50\n",
       "6573    45_50\n",
       "6574    45_50\n",
       "Name: 나이묶음, Length: 6575, dtype: object"
      ]
     },
     "execution_count": 90,
     "metadata": {},
     "output_type": "execute_result"
    }
   ],
   "source": [
    "# 연령대 열 생성\n",
    "merge_id_sale['나이묶음'] = merge_id_sale['나이'].apply(lambda x : '20_25' if x < 25 else ('25_30' if x < 30 else ('30_35' if x < 35 else ('35_40' if x < 40 else ('40_45' if x < 45 else ('45_50' if x < 50 else '50_'))))))\n",
    "merge_id_sale['나이묶음']"
   ]
  },
  {
   "cell_type": "code",
   "execution_count": 91,
   "metadata": {},
   "outputs": [
    {
     "data": {
      "text/html": [
       "<div>\n",
       "<style scoped>\n",
       "    .dataframe tbody tr th:only-of-type {\n",
       "        vertical-align: middle;\n",
       "    }\n",
       "\n",
       "    .dataframe tbody tr th {\n",
       "        vertical-align: top;\n",
       "    }\n",
       "\n",
       "    .dataframe thead th {\n",
       "        text-align: right;\n",
       "    }\n",
       "</style>\n",
       "<table border=\"1\" class=\"dataframe\">\n",
       "  <thead>\n",
       "    <tr style=\"text-align: right;\">\n",
       "      <th></th>\n",
       "      <th>나이묶음</th>\n",
       "      <th>나이</th>\n",
       "    </tr>\n",
       "  </thead>\n",
       "  <tbody>\n",
       "    <tr>\n",
       "      <th>0</th>\n",
       "      <td>20_25</td>\n",
       "      <td>177</td>\n",
       "    </tr>\n",
       "    <tr>\n",
       "      <th>6</th>\n",
       "      <td>50_</td>\n",
       "      <td>222</td>\n",
       "    </tr>\n",
       "    <tr>\n",
       "      <th>3</th>\n",
       "      <td>35_40</td>\n",
       "      <td>391</td>\n",
       "    </tr>\n",
       "    <tr>\n",
       "      <th>1</th>\n",
       "      <td>25_30</td>\n",
       "      <td>461</td>\n",
       "    </tr>\n",
       "    <tr>\n",
       "      <th>2</th>\n",
       "      <td>30_35</td>\n",
       "      <td>1183</td>\n",
       "    </tr>\n",
       "    <tr>\n",
       "      <th>4</th>\n",
       "      <td>40_45</td>\n",
       "      <td>1268</td>\n",
       "    </tr>\n",
       "    <tr>\n",
       "      <th>5</th>\n",
       "      <td>45_50</td>\n",
       "      <td>2873</td>\n",
       "    </tr>\n",
       "  </tbody>\n",
       "</table>\n",
       "</div>"
      ],
      "text/plain": [
       "    나이묶음    나이\n",
       "0  20_25   177\n",
       "6    50_   222\n",
       "3  35_40   391\n",
       "1  25_30   461\n",
       "2  30_35  1183\n",
       "4  40_45  1268\n",
       "5  45_50  2873"
      ]
     },
     "execution_count": 91,
     "metadata": {},
     "output_type": "execute_result"
    }
   ],
   "source": [
    "# 연령대별 회원 수 확인\n",
    "merge_age_count = merge_id_sale.groupby('나이묶음', as_index=False)['나이'].count().sort_values(by = '나이')\n",
    "merge_age_count"
   ]
  },
  {
   "attachments": {},
   "cell_type": "markdown",
   "metadata": {},
   "source": [
    "### 데이터 시각화"
   ]
  },
  {
   "cell_type": "code",
   "execution_count": 92,
   "metadata": {},
   "outputs": [
    {
     "data": {
      "image/png": "[encoded data removed]",
      "text/plain": [
       "<Figure size 640x480 with 1 Axes>"
      ]
     },
     "metadata": {},
     "output_type": "display_data"
    }
   ],
   "source": [
    "# 연령별 회원 수 파이 차트\n",
    "\n",
    "# 헥스코드 리스트 생성\n",
    "colors1 = ['#12306b', '#12306b', '#12306b', '#696969', '#A9A9A9', '#D3D3D3', '#DCDCDC']\n",
    "\n",
    "plt.title('연령별 회원 수')\n",
    "plt.pie(merge_age_count['나이'], labels=merge_age_count['나이묶음'], autopct='%.1f%%', startangle=120, colors=colors1)\n",
    "\n",
    "plt.show()"
   ]
  },
  {
   "cell_type": "code",
   "execution_count": 93,
   "metadata": {},
   "outputs": [
    {
     "data": {
      "text/html": [
       "<div>\n",
       "<style scoped>\n",
       "    .dataframe tbody tr th:only-of-type {\n",
       "        vertical-align: middle;\n",
       "    }\n",
       "\n",
       "    .dataframe tbody tr th {\n",
       "        vertical-align: top;\n",
       "    }\n",
       "\n",
       "    .dataframe thead th {\n",
       "        text-align: right;\n",
       "    }\n",
       "</style>\n",
       "<table border=\"1\" class=\"dataframe\">\n",
       "  <thead>\n",
       "    <tr style=\"text-align: right;\">\n",
       "      <th></th>\n",
       "      <th>ID</th>\n",
       "      <th>판매가</th>\n",
       "      <th>나이</th>\n",
       "      <th>사용가능 적립금</th>\n",
       "      <th>성별</th>\n",
       "      <th>주소(동/읍/면)</th>\n",
       "      <th>최종접속일</th>\n",
       "      <th>최종주문일</th>\n",
       "      <th>유입경로</th>\n",
       "      <th>유입기기</th>\n",
       "      <th>회원 가입일</th>\n",
       "      <th>사업자구분</th>\n",
       "      <th>회원구분</th>\n",
       "      <th>나이묶음</th>\n",
       "    </tr>\n",
       "  </thead>\n",
       "  <tbody>\n",
       "    <tr>\n",
       "      <th>1</th>\n",
       "      <td>cgh1385</td>\n",
       "      <td>66500.0</td>\n",
       "      <td>53</td>\n",
       "      <td>0</td>\n",
       "      <td>남자</td>\n",
       "      <td>전라북도 전주시 덕진구 동부대로 879 (호성동1가)</td>\n",
       "      <td>2017-01-02 오후 12:32</td>\n",
       "      <td>2017-01-01 오후 3:38</td>\n",
       "      <td>블로그광고</td>\n",
       "      <td>모바일</td>\n",
       "      <td>2017-01-01</td>\n",
       "      <td>개인</td>\n",
       "      <td>일반</td>\n",
       "      <td>50_</td>\n",
       "    </tr>\n",
       "    <tr>\n",
       "      <th>2</th>\n",
       "      <td>pjkl77</td>\n",
       "      <td>51000.0</td>\n",
       "      <td>28</td>\n",
       "      <td>0</td>\n",
       "      <td>남자</td>\n",
       "      <td>전라북도 전주시 완산구 효자동3가 1676-13</td>\n",
       "      <td>2017-02-26 오후 10:52</td>\n",
       "      <td>2017-02-26 오후 10:55</td>\n",
       "      <td>이메일광고</td>\n",
       "      <td>PC</td>\n",
       "      <td>2017-01-14</td>\n",
       "      <td>사업자</td>\n",
       "      <td>사업자</td>\n",
       "      <td>25_30</td>\n",
       "    </tr>\n",
       "    <tr>\n",
       "      <th>4</th>\n",
       "      <td>bear011</td>\n",
       "      <td>1879670.0</td>\n",
       "      <td>40</td>\n",
       "      <td>21908</td>\n",
       "      <td>남자</td>\n",
       "      <td>경기도 부천시 원미구 상일로 126 (상동)</td>\n",
       "      <td>2018-12-19 오후 1:26</td>\n",
       "      <td>2018-12-19 오후 1:29</td>\n",
       "      <td>SNS광고</td>\n",
       "      <td>모바일</td>\n",
       "      <td>2017-01-17</td>\n",
       "      <td>사업자</td>\n",
       "      <td>사업자</td>\n",
       "      <td>40_45</td>\n",
       "    </tr>\n",
       "    <tr>\n",
       "      <th>5</th>\n",
       "      <td>kim0750</td>\n",
       "      <td>73700.0</td>\n",
       "      <td>44</td>\n",
       "      <td>0</td>\n",
       "      <td>남자</td>\n",
       "      <td>경상북도 구미시 송동로7길 31-3 (도량동)</td>\n",
       "      <td>2017-01-18 오후 4:28</td>\n",
       "      <td>2017-01-18 오후 4:41</td>\n",
       "      <td>SNS광고</td>\n",
       "      <td>PC</td>\n",
       "      <td>2017-01-18</td>\n",
       "      <td>사업자</td>\n",
       "      <td>사업자</td>\n",
       "      <td>40_45</td>\n",
       "    </tr>\n",
       "    <tr>\n",
       "      <th>6</th>\n",
       "      <td>nonane9979</td>\n",
       "      <td>226900.0</td>\n",
       "      <td>45</td>\n",
       "      <td>0</td>\n",
       "      <td>남자</td>\n",
       "      <td>부산광역시 금정구 중앙대로 1607 (부곡동)</td>\n",
       "      <td>2017-02-13 오후 2:54</td>\n",
       "      <td>2017-02-13 오후 3:12</td>\n",
       "      <td>블로그광고</td>\n",
       "      <td>PC</td>\n",
       "      <td>2017-01-18</td>\n",
       "      <td>사업자</td>\n",
       "      <td>사업자</td>\n",
       "      <td>45_50</td>\n",
       "    </tr>\n",
       "    <tr>\n",
       "      <th>...</th>\n",
       "      <td>...</td>\n",
       "      <td>...</td>\n",
       "      <td>...</td>\n",
       "      <td>...</td>\n",
       "      <td>...</td>\n",
       "      <td>...</td>\n",
       "      <td>...</td>\n",
       "      <td>...</td>\n",
       "      <td>...</td>\n",
       "      <td>...</td>\n",
       "      <td>...</td>\n",
       "      <td>...</td>\n",
       "      <td>...</td>\n",
       "      <td>...</td>\n",
       "    </tr>\n",
       "    <tr>\n",
       "      <th>6567</th>\n",
       "      <td>1094652352@k</td>\n",
       "      <td>77000.0</td>\n",
       "      <td>47</td>\n",
       "      <td>700</td>\n",
       "      <td>남자</td>\n",
       "      <td>NaN</td>\n",
       "      <td>2019-05-31 오전 10:05</td>\n",
       "      <td>2019-05-31 오전 10:07</td>\n",
       "      <td>블로그광고</td>\n",
       "      <td>PC</td>\n",
       "      <td>2019-05-31</td>\n",
       "      <td>개인</td>\n",
       "      <td>일반</td>\n",
       "      <td>45_50</td>\n",
       "    </tr>\n",
       "    <tr>\n",
       "      <th>6568</th>\n",
       "      <td>1094746791@k</td>\n",
       "      <td>300000.0</td>\n",
       "      <td>47</td>\n",
       "      <td>1200</td>\n",
       "      <td>남자</td>\n",
       "      <td>NaN</td>\n",
       "      <td>2019-05-31 오후 5:00</td>\n",
       "      <td>2019-05-31 오후 4:58</td>\n",
       "      <td>SNS광고</td>\n",
       "      <td>모바일</td>\n",
       "      <td>2019-05-31</td>\n",
       "      <td>개인</td>\n",
       "      <td>일반</td>\n",
       "      <td>45_50</td>\n",
       "    </tr>\n",
       "    <tr>\n",
       "      <th>6569</th>\n",
       "      <td>51775030@n</td>\n",
       "      <td>61900.0</td>\n",
       "      <td>45</td>\n",
       "      <td>600</td>\n",
       "      <td>남자</td>\n",
       "      <td>NaN</td>\n",
       "      <td>2019-05-31 오후 2:41</td>\n",
       "      <td>2019-05-31 오후 3:17</td>\n",
       "      <td>SNS광고</td>\n",
       "      <td>모바일</td>\n",
       "      <td>2019-05-31</td>\n",
       "      <td>개인</td>\n",
       "      <td>일반</td>\n",
       "      <td>45_50</td>\n",
       "    </tr>\n",
       "    <tr>\n",
       "      <th>6570</th>\n",
       "      <td>pp1730</td>\n",
       "      <td>55870.0</td>\n",
       "      <td>31</td>\n",
       "      <td>1000</td>\n",
       "      <td>남자</td>\n",
       "      <td>경기도 의정부시 동일로454번길 40 (신곡동)</td>\n",
       "      <td>2019-05-31 오후 4:38</td>\n",
       "      <td>2019-05-31 오후 4:30</td>\n",
       "      <td>유튜브광고</td>\n",
       "      <td>PC</td>\n",
       "      <td>2019-05-31</td>\n",
       "      <td>개인</td>\n",
       "      <td>전화주문 고객</td>\n",
       "      <td>30_35</td>\n",
       "    </tr>\n",
       "    <tr>\n",
       "      <th>6573</th>\n",
       "      <td>aaok02044</td>\n",
       "      <td>113300.0</td>\n",
       "      <td>46</td>\n",
       "      <td>1000</td>\n",
       "      <td>남자</td>\n",
       "      <td>경상남도 창원시 의창구 북면 무동로267번길 10</td>\n",
       "      <td>2019-06-19 오전 10:59</td>\n",
       "      <td>2019-06-19 오전 11:18</td>\n",
       "      <td>인터넷검색</td>\n",
       "      <td>모바일</td>\n",
       "      <td>2019-06-19</td>\n",
       "      <td>사업자</td>\n",
       "      <td>일반</td>\n",
       "      <td>45_50</td>\n",
       "    </tr>\n",
       "  </tbody>\n",
       "</table>\n",
       "<p>4939 rows × 14 columns</p>\n",
       "</div>"
      ],
      "text/plain": [
       "                ID        판매가  나이  사용가능 적립금  성별  \\\n",
       "1          cgh1385    66500.0  53         0  남자   \n",
       "2           pjkl77    51000.0  28         0  남자   \n",
       "4          bear011  1879670.0  40     21908  남자   \n",
       "5          kim0750    73700.0  44         0  남자   \n",
       "6       nonane9979   226900.0  45         0  남자   \n",
       "...            ...        ...  ..       ...  ..   \n",
       "6567  1094652352@k    77000.0  47       700  남자   \n",
       "6568  1094746791@k   300000.0  47      1200  남자   \n",
       "6569    51775030@n    61900.0  45       600  남자   \n",
       "6570        pp1730    55870.0  31      1000  남자   \n",
       "6573     aaok02044   113300.0  46      1000  남자   \n",
       "\n",
       "                          주소(동/읍/면)                최종접속일                최종주문일  \\\n",
       "1     전라북도 전주시 덕진구 동부대로 879 (호성동1가)  2017-01-02 오후 12:32   2017-01-01 오후 3:38   \n",
       "2        전라북도 전주시 완산구 효자동3가 1676-13  2017-02-26 오후 10:52  2017-02-26 오후 10:55   \n",
       "4          경기도 부천시 원미구 상일로 126 (상동)   2018-12-19 오후 1:26   2018-12-19 오후 1:29   \n",
       "5         경상북도 구미시 송동로7길 31-3 (도량동)   2017-01-18 오후 4:28   2017-01-18 오후 4:41   \n",
       "6         부산광역시 금정구 중앙대로 1607 (부곡동)   2017-02-13 오후 2:54   2017-02-13 오후 3:12   \n",
       "...                             ...                  ...                  ...   \n",
       "6567                            NaN  2019-05-31 오전 10:05  2019-05-31 오전 10:07   \n",
       "6568                            NaN   2019-05-31 오후 5:00   2019-05-31 오후 4:58   \n",
       "6569                            NaN   2019-05-31 오후 2:41   2019-05-31 오후 3:17   \n",
       "6570     경기도 의정부시 동일로454번길 40 (신곡동)   2019-05-31 오후 4:38   2019-05-31 오후 4:30   \n",
       "6573    경상남도 창원시 의창구 북면 무동로267번길 10  2019-06-19 오전 10:59  2019-06-19 오전 11:18   \n",
       "\n",
       "       유입경로 유입기기      회원 가입일 사업자구분     회원구분   나이묶음  \n",
       "1     블로그광고  모바일  2017-01-01    개인       일반    50_  \n",
       "2     이메일광고   PC  2017-01-14   사업자      사업자  25_30  \n",
       "4     SNS광고  모바일  2017-01-17   사업자      사업자  40_45  \n",
       "5     SNS광고   PC  2017-01-18   사업자      사업자  40_45  \n",
       "6     블로그광고   PC  2017-01-18   사업자      사업자  45_50  \n",
       "...     ...  ...         ...   ...      ...    ...  \n",
       "6567  블로그광고   PC  2019-05-31    개인       일반  45_50  \n",
       "6568  SNS광고  모바일  2019-05-31    개인       일반  45_50  \n",
       "6569  SNS광고  모바일  2019-05-31    개인       일반  45_50  \n",
       "6570  유튜브광고   PC  2019-05-31    개인  전화주문 고객  30_35  \n",
       "6573  인터넷검색  모바일  2019-06-19   사업자       일반  45_50  \n",
       "\n",
       "[4939 rows x 14 columns]"
      ]
     },
     "execution_count": 93,
     "metadata": {},
     "output_type": "execute_result"
    }
   ],
   "source": [
    "# 결측치 제거\n",
    "merge_drop = merge_id_sale.drop(merge_id_sale[merge_id_sale['판매가'].isnull() == True].index)\n",
    "merge_drop"
   ]
  },
  {
   "cell_type": "code",
   "execution_count": 94,
   "metadata": {},
   "outputs": [
    {
     "data": {
      "text/plain": [
       "1         50_\n",
       "2       25_30\n",
       "4       40_45\n",
       "5       40_45\n",
       "6       45_50\n",
       "        ...  \n",
       "6567    45_50\n",
       "6568    45_50\n",
       "6569    45_50\n",
       "6570    30_35\n",
       "6573    45_50\n",
       "Name: 나이묶음, Length: 4939, dtype: object"
      ]
     },
     "execution_count": 94,
     "metadata": {},
     "output_type": "execute_result"
    }
   ],
   "source": [
    "# 연령대 열 생성\n",
    "merge_drop['나이묶음'] = merge_drop['나이'].apply(lambda x : '20_25' if x < 25 else ('25_30' if x < 30 else ('30_35' if x < 35 else ('35_40' if x < 40 else ('40_45' if x < 45 else ('45_50' if x < 50 else '50_'))))))\n",
    "merge_drop['나이묶음']"
   ]
  },
  {
   "cell_type": "code",
   "execution_count": 95,
   "metadata": {},
   "outputs": [
    {
     "data": {
      "text/html": [
       "<div>\n",
       "<style scoped>\n",
       "    .dataframe tbody tr th:only-of-type {\n",
       "        vertical-align: middle;\n",
       "    }\n",
       "\n",
       "    .dataframe tbody tr th {\n",
       "        vertical-align: top;\n",
       "    }\n",
       "\n",
       "    .dataframe thead th {\n",
       "        text-align: right;\n",
       "    }\n",
       "</style>\n",
       "<table border=\"1\" class=\"dataframe\">\n",
       "  <thead>\n",
       "    <tr style=\"text-align: right;\">\n",
       "      <th></th>\n",
       "      <th>나이묶음</th>\n",
       "      <th>판매가</th>\n",
       "    </tr>\n",
       "  </thead>\n",
       "  <tbody>\n",
       "    <tr>\n",
       "      <th>0</th>\n",
       "      <td>20_25</td>\n",
       "      <td>1.651220e+08</td>\n",
       "    </tr>\n",
       "    <tr>\n",
       "      <th>6</th>\n",
       "      <td>50_</td>\n",
       "      <td>1.737140e+08</td>\n",
       "    </tr>\n",
       "    <tr>\n",
       "      <th>3</th>\n",
       "      <td>35_40</td>\n",
       "      <td>2.194957e+08</td>\n",
       "    </tr>\n",
       "    <tr>\n",
       "      <th>1</th>\n",
       "      <td>25_30</td>\n",
       "      <td>2.674990e+08</td>\n",
       "    </tr>\n",
       "    <tr>\n",
       "      <th>5</th>\n",
       "      <td>45_50</td>\n",
       "      <td>2.917055e+08</td>\n",
       "    </tr>\n",
       "    <tr>\n",
       "      <th>2</th>\n",
       "      <td>30_35</td>\n",
       "      <td>3.231419e+08</td>\n",
       "    </tr>\n",
       "    <tr>\n",
       "      <th>4</th>\n",
       "      <td>40_45</td>\n",
       "      <td>1.058618e+09</td>\n",
       "    </tr>\n",
       "  </tbody>\n",
       "</table>\n",
       "</div>"
      ],
      "text/plain": [
       "    나이묶음           판매가\n",
       "0  20_25  1.651220e+08\n",
       "6    50_  1.737140e+08\n",
       "3  35_40  2.194957e+08\n",
       "1  25_30  2.674990e+08\n",
       "5  45_50  2.917055e+08\n",
       "2  30_35  3.231419e+08\n",
       "4  40_45  1.058618e+09"
      ]
     },
     "execution_count": 95,
     "metadata": {},
     "output_type": "execute_result"
    }
   ],
   "source": [
    "# 연령대별 판매금액 합계 확인\n",
    "merge_age_sale = merge_drop.groupby('나이묶음', as_index=False)['판매가'].sum().sort_values(by = '판매가')\n",
    "merge_age_sale"
   ]
  },
  {
   "attachments": {},
   "cell_type": "markdown",
   "metadata": {},
   "source": [
    "### 데이터 시각화"
   ]
  },
  {
   "cell_type": "code",
   "execution_count": 96,
   "metadata": {},
   "outputs": [
    {
     "data": {
      "image/png": "[encoded data removed]",
      "text/plain": [
       "<Figure size 640x480 with 1 Axes>"
      ]
     },
     "metadata": {},
     "output_type": "display_data"
    }
   ],
   "source": [
    "# 연령대별 매출금액 비율 파이 차트\n",
    "\n",
    "colors2 = ['#12306b', '#12306b', '#12306b', '#696969', '#A9A9A9', '#D3D3D3', '#DCDCDC']\n",
    "\n",
    "plt.title('연령대별 매출금액')\n",
    "plt.pie(merge_age_sale['판매가'], labels=merge_age_sale['나이묶음'], autopct='%.1f%%', startangle=120, colors=colors2)\n",
    "\n",
    "plt.show()"
   ]
  },
  {
   "cell_type": "code",
   "execution_count": 97,
   "metadata": {},
   "outputs": [
    {
     "data": {
      "text/plain": [
       "성별\n",
       "남자    1.951200e+09\n",
       "여자    5.480962e+08\n",
       "Name: 판매가, dtype: float64"
      ]
     },
     "execution_count": 97,
     "metadata": {},
     "output_type": "execute_result"
    }
   ],
   "source": [
    "# 성별에 따른 판매금액 합계 확인\n",
    "merge_age_sale2 = merge_drop.groupby('성별')['판매가'].sum()\n",
    "merge_age_sale2"
   ]
  },
  {
   "attachments": {},
   "cell_type": "markdown",
   "metadata": {},
   "source": [
    "### 데이터 시각화"
   ]
  },
  {
   "cell_type": "code",
   "execution_count": 98,
   "metadata": {},
   "outputs": [
    {
     "data": {
      "image/png": "[encoded data removed]",
      "text/plain": [
       "<Figure size 640x480 with 1 Axes>"
      ]
     },
     "metadata": {},
     "output_type": "display_data"
    }
   ],
   "source": [
    "# 성별 매출금액 비율 파이 차트\n",
    "colors3 = ['#DCDCDC', '#12306b']\n",
    "\n",
    "plt.title('성별 매출금액')\n",
    "plt.pie(merge_age_sale2, labels=['남자', '여자'], autopct='%.1f%%', startangle=90, colors=colors3)\n",
    "\n",
    "plt.show()"
   ]
  },
  {
   "cell_type": "code",
   "execution_count": null,
   "metadata": {},
   "outputs": [],
   "source": []
  }
 ],
 "metadata": {
  "kernelspec": {
   "display_name": "Python 3.9.13 ('base')",
   "language": "python",
   "name": "python3"
  },
  "language_info": {
   "codemirror_mode": {
    "name": "ipython",
    "version": 3
   },
   "file_extension": ".py",
   "mimetype": "text/x-python",
   "name": "python",
   "nbconvert_exporter": "python",
   "pygments_lexer": "ipython3",
   "version": "3.9.13"
  },
  "orig_nbformat": 4,
  "vscode": {
   "interpreter": {
    "hash": "567a69f9db2237ae3b63fa7d6e4b5b1582176c30604f6fc7337a39c1a701d067"
   }
  }
 },
 "nbformat": 4,
 "nbformat_minor": 2
}
