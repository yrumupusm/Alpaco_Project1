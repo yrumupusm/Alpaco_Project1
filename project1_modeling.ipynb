{
 "cells": [
  {
   "attachments": {},
   "cell_type": "markdown",
   "metadata": {},
   "source": [
    "### 기본 라이브러리 import 및 폰트 설정"
   ]
  },
  {
   "cell_type": "code",
   "execution_count": 11,
   "metadata": {},
   "outputs": [],
   "source": [
    "import matplotlib.pyplot as plt\n",
    "import seaborn as sns\n",
    "import pandas as pd\n",
    "import matplotlib.font_manager as fm\n",
    "plt.rcParams['font.family'] = 'Malgun Gothic'\n",
    "plt.rcParams['axes.unicode_minus'] = False"
   ]
  },
  {
   "attachments": {},
   "cell_type": "markdown",
   "metadata": {},
   "source": [
    "### 데이터 불러오기"
   ]
  },
  {
   "cell_type": "code",
   "execution_count": 12,
   "metadata": {},
   "outputs": [],
   "source": [
    "order = pd.read_csv('data/log_order.csv')\n",
    "member = pd.read_csv('data/master_member.csv')\n",
    "product = pd.read_csv('data/master_product.csv')"
   ]
  },
  {
   "attachments": {},
   "cell_type": "markdown",
   "metadata": {},
   "source": [
    "### order 데이터 전처리"
   ]
  },
  {
   "cell_type": "code",
   "execution_count": 13,
   "metadata": {},
   "outputs": [],
   "source": [
    "# 사은품 제거, 나중에 member 데이터와 merge\n",
    "order.drop(index=order[order['상품명'].str.contains('사은품') == True].index, axis=0, inplace=True)"
   ]
  },
  {
   "cell_type": "code",
   "execution_count": 14,
   "metadata": {},
   "outputs": [
    {
     "data": {
      "text/html": [
       "<div>\n",
       "<style scoped>\n",
       "    .dataframe tbody tr th:only-of-type {\n",
       "        vertical-align: middle;\n",
       "    }\n",
       "\n",
       "    .dataframe tbody tr th {\n",
       "        vertical-align: top;\n",
       "    }\n",
       "\n",
       "    .dataframe thead th {\n",
       "        text-align: right;\n",
       "    }\n",
       "</style>\n",
       "<table border=\"1\" class=\"dataframe\">\n",
       "  <thead>\n",
       "    <tr style=\"text-align: right;\">\n",
       "      <th></th>\n",
       "      <th>주문자ID</th>\n",
       "      <th>판매가</th>\n",
       "    </tr>\n",
       "  </thead>\n",
       "  <tbody>\n",
       "    <tr>\n",
       "      <th>0</th>\n",
       "      <td>pp683</td>\n",
       "      <td>71450</td>\n",
       "    </tr>\n",
       "    <tr>\n",
       "      <th>1</th>\n",
       "      <td>asd0908</td>\n",
       "      <td>70620</td>\n",
       "    </tr>\n",
       "    <tr>\n",
       "      <th>2</th>\n",
       "      <td>NaN</td>\n",
       "      <td>13910</td>\n",
       "    </tr>\n",
       "  </tbody>\n",
       "</table>\n",
       "</div>"
      ],
      "text/plain": [
       "     주문자ID    판매가\n",
       "0    pp683  71450\n",
       "1  asd0908  70620\n",
       "2      NaN  13910"
      ]
     },
     "execution_count": 14,
     "metadata": {},
     "output_type": "execute_result"
    }
   ],
   "source": [
    "# 필요한 열만 추출\n",
    "order_drop_columns = order.loc[:, ['주문자ID', '판매가']]\n",
    "order_drop_columns.head(3)"
   ]
  },
  {
   "cell_type": "code",
   "execution_count": 15,
   "metadata": {},
   "outputs": [
    {
     "data": {
      "text/html": [
       "<div>\n",
       "<style scoped>\n",
       "    .dataframe tbody tr th:only-of-type {\n",
       "        vertical-align: middle;\n",
       "    }\n",
       "\n",
       "    .dataframe tbody tr th {\n",
       "        vertical-align: top;\n",
       "    }\n",
       "\n",
       "    .dataframe thead th {\n",
       "        text-align: right;\n",
       "    }\n",
       "</style>\n",
       "<table border=\"1\" class=\"dataframe\">\n",
       "  <thead>\n",
       "    <tr style=\"text-align: right;\">\n",
       "      <th></th>\n",
       "      <th></th>\n",
       "      <th>0</th>\n",
       "    </tr>\n",
       "    <tr>\n",
       "      <th>주문자ID</th>\n",
       "      <th>판매가</th>\n",
       "      <th></th>\n",
       "    </tr>\n",
       "  </thead>\n",
       "  <tbody>\n",
       "    <tr>\n",
       "      <th>pp197</th>\n",
       "      <th>0</th>\n",
       "      <td>1</td>\n",
       "    </tr>\n",
       "    <tr>\n",
       "      <th>39706335@n</th>\n",
       "      <th>0</th>\n",
       "      <td>1</td>\n",
       "    </tr>\n",
       "    <tr>\n",
       "      <th>down9048</th>\n",
       "      <th>0</th>\n",
       "      <td>1</td>\n",
       "    </tr>\n",
       "    <tr>\n",
       "      <th>pp567</th>\n",
       "      <th>1320</th>\n",
       "      <td>1</td>\n",
       "    </tr>\n",
       "    <tr>\n",
       "      <th>pp773</th>\n",
       "      <th>3480</th>\n",
       "      <td>1</td>\n",
       "    </tr>\n",
       "    <tr>\n",
       "      <th>...</th>\n",
       "      <th>...</th>\n",
       "      <td>...</td>\n",
       "    </tr>\n",
       "    <tr>\n",
       "      <th>jsckorea12</th>\n",
       "      <th>14309730</th>\n",
       "      <td>1</td>\n",
       "    </tr>\n",
       "    <tr>\n",
       "      <th>pp257</th>\n",
       "      <th>14534220</th>\n",
       "      <td>1</td>\n",
       "    </tr>\n",
       "    <tr>\n",
       "      <th>leemansome</th>\n",
       "      <th>15331070</th>\n",
       "      <td>1</td>\n",
       "    </tr>\n",
       "    <tr>\n",
       "      <th>mission1013</th>\n",
       "      <th>17331450</th>\n",
       "      <td>1</td>\n",
       "    </tr>\n",
       "    <tr>\n",
       "      <th>776646558@k</th>\n",
       "      <th>20301900</th>\n",
       "      <td>1</td>\n",
       "    </tr>\n",
       "  </tbody>\n",
       "</table>\n",
       "<p>4951 rows × 1 columns</p>\n",
       "</div>"
      ],
      "text/plain": [
       "                      0\n",
       "주문자ID       판매가        \n",
       "pp197       0         1\n",
       "39706335@n  0         1\n",
       "down9048    0         1\n",
       "pp567       1320      1\n",
       "pp773       3480      1\n",
       "...                  ..\n",
       "jsckorea12  14309730  1\n",
       "pp257       14534220  1\n",
       "leemansome  15331070  1\n",
       "mission1013 17331450  1\n",
       "776646558@k 20301900  1\n",
       "\n",
       "[4951 rows x 1 columns]"
      ]
     },
     "execution_count": 15,
     "metadata": {},
     "output_type": "execute_result"
    }
   ],
   "source": [
    "# ID별 구매금액 합\n",
    "order_sum = order_drop_columns.groupby('주문자ID', as_index=False)['판매가'].sum()\n",
    "pd.DataFrame(order_sum.value_counts()).sort_values(by='판매가')\n",
    "\n",
    "# 판매 금액 적은 사람 제거 필요"
   ]
  },
  {
   "cell_type": "code",
   "execution_count": 16,
   "metadata": {},
   "outputs": [
    {
     "data": {
      "text/html": [
       "<div>\n",
       "<style scoped>\n",
       "    .dataframe tbody tr th:only-of-type {\n",
       "        vertical-align: middle;\n",
       "    }\n",
       "\n",
       "    .dataframe tbody tr th {\n",
       "        vertical-align: top;\n",
       "    }\n",
       "\n",
       "    .dataframe thead th {\n",
       "        text-align: right;\n",
       "    }\n",
       "</style>\n",
       "<table border=\"1\" class=\"dataframe\">\n",
       "  <thead>\n",
       "    <tr style=\"text-align: right;\">\n",
       "      <th></th>\n",
       "      <th></th>\n",
       "      <th>0</th>\n",
       "    </tr>\n",
       "    <tr>\n",
       "      <th>주문자ID</th>\n",
       "      <th>판매가</th>\n",
       "      <th></th>\n",
       "    </tr>\n",
       "  </thead>\n",
       "  <tbody>\n",
       "    <tr>\n",
       "      <th>100304734@n</th>\n",
       "      <th>1</th>\n",
       "      <td>1</td>\n",
       "    </tr>\n",
       "    <tr>\n",
       "      <th>85444883@n</th>\n",
       "      <th>1</th>\n",
       "      <td>1</td>\n",
       "    </tr>\n",
       "    <tr>\n",
       "      <th>8545991@n</th>\n",
       "      <th>1</th>\n",
       "      <td>1</td>\n",
       "    </tr>\n",
       "    <tr>\n",
       "      <th>796104071@k</th>\n",
       "      <th>1</th>\n",
       "      <td>1</td>\n",
       "    </tr>\n",
       "    <tr>\n",
       "      <th>7984963@n</th>\n",
       "      <th>1</th>\n",
       "      <td>1</td>\n",
       "    </tr>\n",
       "    <tr>\n",
       "      <th>...</th>\n",
       "      <th>...</th>\n",
       "      <td>...</td>\n",
       "    </tr>\n",
       "    <tr>\n",
       "      <th>pp257</th>\n",
       "      <th>179</th>\n",
       "      <td>1</td>\n",
       "    </tr>\n",
       "    <tr>\n",
       "      <th>leemansome</th>\n",
       "      <th>187</th>\n",
       "      <td>1</td>\n",
       "    </tr>\n",
       "    <tr>\n",
       "      <th>jsckorea12</th>\n",
       "      <th>189</th>\n",
       "      <td>1</td>\n",
       "    </tr>\n",
       "    <tr>\n",
       "      <th>mission1013</th>\n",
       "      <th>223</th>\n",
       "      <td>1</td>\n",
       "    </tr>\n",
       "    <tr>\n",
       "      <th>776646558@k</th>\n",
       "      <th>244</th>\n",
       "      <td>1</td>\n",
       "    </tr>\n",
       "  </tbody>\n",
       "</table>\n",
       "<p>4951 rows × 1 columns</p>\n",
       "</div>"
      ],
      "text/plain": [
       "                 0\n",
       "주문자ID       판매가   \n",
       "100304734@n 1    1\n",
       "85444883@n  1    1\n",
       "8545991@n   1    1\n",
       "796104071@k 1    1\n",
       "7984963@n   1    1\n",
       "...             ..\n",
       "pp257       179  1\n",
       "leemansome  187  1\n",
       "jsckorea12  189  1\n",
       "mission1013 223  1\n",
       "776646558@k 244  1\n",
       "\n",
       "[4951 rows x 1 columns]"
      ]
     },
     "execution_count": 16,
     "metadata": {},
     "output_type": "execute_result"
    }
   ],
   "source": [
    "# ID별 구매횟수\n",
    "order_count = order_drop_columns.groupby('주문자ID', as_index=False)['판매가'].count()\n",
    "pd.DataFrame(order_count.value_counts()).sort_values(by='판매가')\n",
    "\n",
    "# 구매횟수 적은 사람 제거 필요"
   ]
  },
  {
   "cell_type": "code",
   "execution_count": 17,
   "metadata": {},
   "outputs": [
    {
     "data": {
      "text/html": [
       "<div>\n",
       "<style scoped>\n",
       "    .dataframe tbody tr th:only-of-type {\n",
       "        vertical-align: middle;\n",
       "    }\n",
       "\n",
       "    .dataframe tbody tr th {\n",
       "        vertical-align: top;\n",
       "    }\n",
       "\n",
       "    .dataframe thead th {\n",
       "        text-align: right;\n",
       "    }\n",
       "</style>\n",
       "<table border=\"1\" class=\"dataframe\">\n",
       "  <thead>\n",
       "    <tr style=\"text-align: right;\">\n",
       "      <th></th>\n",
       "      <th>주문자ID</th>\n",
       "      <th>판매가_x</th>\n",
       "      <th>판매가_y</th>\n",
       "    </tr>\n",
       "  </thead>\n",
       "  <tbody>\n",
       "    <tr>\n",
       "      <th>0</th>\n",
       "      <td>100304734@n</td>\n",
       "      <td>103300</td>\n",
       "      <td>1</td>\n",
       "    </tr>\n",
       "    <tr>\n",
       "      <th>1</th>\n",
       "      <td>1003409866@k</td>\n",
       "      <td>3113540</td>\n",
       "      <td>45</td>\n",
       "    </tr>\n",
       "    <tr>\n",
       "      <th>2</th>\n",
       "      <td>100381931@n</td>\n",
       "      <td>41730</td>\n",
       "      <td>3</td>\n",
       "    </tr>\n",
       "    <tr>\n",
       "      <th>3</th>\n",
       "      <td>1004498382@k</td>\n",
       "      <td>76400</td>\n",
       "      <td>1</td>\n",
       "    </tr>\n",
       "    <tr>\n",
       "      <th>4</th>\n",
       "      <td>1004547839@k</td>\n",
       "      <td>180400</td>\n",
       "      <td>2</td>\n",
       "    </tr>\n",
       "  </tbody>\n",
       "</table>\n",
       "</div>"
      ],
      "text/plain": [
       "          주문자ID    판매가_x  판매가_y\n",
       "0   100304734@n   103300      1\n",
       "1  1003409866@k  3113540     45\n",
       "2   100381931@n    41730      3\n",
       "3  1004498382@k    76400      1\n",
       "4  1004547839@k   180400      2"
      ]
     },
     "execution_count": 17,
     "metadata": {},
     "output_type": "execute_result"
    }
   ],
   "source": [
    "# ID별 구매금액 합계, 구매횟수 merge\n",
    "order_preprocessed = order_sum.merge(right = order_count, left_on='주문자ID', right_on='주문자ID')\n",
    "order_preprocessed.head()"
   ]
  },
  {
   "cell_type": "code",
   "execution_count": 18,
   "metadata": {},
   "outputs": [
    {
     "data": {
      "text/html": [
       "<div>\n",
       "<style scoped>\n",
       "    .dataframe tbody tr th:only-of-type {\n",
       "        vertical-align: middle;\n",
       "    }\n",
       "\n",
       "    .dataframe tbody tr th {\n",
       "        vertical-align: top;\n",
       "    }\n",
       "\n",
       "    .dataframe thead th {\n",
       "        text-align: right;\n",
       "    }\n",
       "</style>\n",
       "<table border=\"1\" class=\"dataframe\">\n",
       "  <thead>\n",
       "    <tr style=\"text-align: right;\">\n",
       "      <th></th>\n",
       "      <th>ID</th>\n",
       "      <th>총구매금액</th>\n",
       "      <th>총구매횟수</th>\n",
       "    </tr>\n",
       "  </thead>\n",
       "  <tbody>\n",
       "    <tr>\n",
       "      <th>0</th>\n",
       "      <td>100304734@n</td>\n",
       "      <td>103300</td>\n",
       "      <td>1</td>\n",
       "    </tr>\n",
       "    <tr>\n",
       "      <th>1</th>\n",
       "      <td>1003409866@k</td>\n",
       "      <td>3113540</td>\n",
       "      <td>45</td>\n",
       "    </tr>\n",
       "    <tr>\n",
       "      <th>2</th>\n",
       "      <td>100381931@n</td>\n",
       "      <td>41730</td>\n",
       "      <td>3</td>\n",
       "    </tr>\n",
       "    <tr>\n",
       "      <th>3</th>\n",
       "      <td>1004498382@k</td>\n",
       "      <td>76400</td>\n",
       "      <td>1</td>\n",
       "    </tr>\n",
       "    <tr>\n",
       "      <th>4</th>\n",
       "      <td>1004547839@k</td>\n",
       "      <td>180400</td>\n",
       "      <td>2</td>\n",
       "    </tr>\n",
       "  </tbody>\n",
       "</table>\n",
       "</div>"
      ],
      "text/plain": [
       "             ID    총구매금액  총구매횟수\n",
       "0   100304734@n   103300      1\n",
       "1  1003409866@k  3113540     45\n",
       "2   100381931@n    41730      3\n",
       "3  1004498382@k    76400      1\n",
       "4  1004547839@k   180400      2"
      ]
     },
     "execution_count": 18,
     "metadata": {},
     "output_type": "execute_result"
    }
   ],
   "source": [
    "# column 명 변경\n",
    "order_preprocessed.columns = ['ID', '총구매금액', '총구매횟수']\n",
    "order_preprocessed.head()"
   ]
  },
  {
   "cell_type": "code",
   "execution_count": 19,
   "metadata": {},
   "outputs": [
    {
     "data": {
      "text/html": [
       "<div>\n",
       "<style scoped>\n",
       "    .dataframe tbody tr th:only-of-type {\n",
       "        vertical-align: middle;\n",
       "    }\n",
       "\n",
       "    .dataframe tbody tr th {\n",
       "        vertical-align: top;\n",
       "    }\n",
       "\n",
       "    .dataframe thead th {\n",
       "        text-align: right;\n",
       "    }\n",
       "</style>\n",
       "<table border=\"1\" class=\"dataframe\">\n",
       "  <thead>\n",
       "    <tr style=\"text-align: right;\">\n",
       "      <th></th>\n",
       "      <th>ID</th>\n",
       "      <th>총구매금액</th>\n",
       "      <th>총구매횟수</th>\n",
       "    </tr>\n",
       "  </thead>\n",
       "  <tbody>\n",
       "    <tr>\n",
       "      <th>2</th>\n",
       "      <td>100381931@n</td>\n",
       "      <td>41730</td>\n",
       "      <td>3</td>\n",
       "    </tr>\n",
       "    <tr>\n",
       "      <th>3</th>\n",
       "      <td>1004498382@k</td>\n",
       "      <td>76400</td>\n",
       "      <td>1</td>\n",
       "    </tr>\n",
       "    <tr>\n",
       "      <th>7</th>\n",
       "      <td>1005540326292754@f</td>\n",
       "      <td>60540</td>\n",
       "      <td>1</td>\n",
       "    </tr>\n",
       "    <tr>\n",
       "      <th>10</th>\n",
       "      <td>10073665@n</td>\n",
       "      <td>57600</td>\n",
       "      <td>1</td>\n",
       "    </tr>\n",
       "    <tr>\n",
       "      <th>11</th>\n",
       "      <td>100738387@n</td>\n",
       "      <td>93720</td>\n",
       "      <td>1</td>\n",
       "    </tr>\n",
       "  </tbody>\n",
       "</table>\n",
       "</div>"
      ],
      "text/plain": [
       "                    ID  총구매금액  총구매횟수\n",
       "2          100381931@n  41730      3\n",
       "3         1004498382@k  76400      1\n",
       "7   1005540326292754@f  60540      1\n",
       "10          10073665@n  57600      1\n",
       "11         100738387@n  93720      1"
      ]
     },
     "execution_count": 19,
     "metadata": {},
     "output_type": "execute_result"
    }
   ],
   "source": [
    "# 구매금액 확인(10만원 미만)\n",
    "order_preprocessed[order_preprocessed['총구매금액'] < 100000].head()"
   ]
  },
  {
   "cell_type": "code",
   "execution_count": 20,
   "metadata": {},
   "outputs": [
    {
     "data": {
      "text/html": [
       "<div>\n",
       "<style scoped>\n",
       "    .dataframe tbody tr th:only-of-type {\n",
       "        vertical-align: middle;\n",
       "    }\n",
       "\n",
       "    .dataframe tbody tr th {\n",
       "        vertical-align: top;\n",
       "    }\n",
       "\n",
       "    .dataframe thead th {\n",
       "        text-align: right;\n",
       "    }\n",
       "</style>\n",
       "<table border=\"1\" class=\"dataframe\">\n",
       "  <thead>\n",
       "    <tr style=\"text-align: right;\">\n",
       "      <th></th>\n",
       "      <th>ID</th>\n",
       "      <th>총구매금액</th>\n",
       "      <th>총구매횟수</th>\n",
       "    </tr>\n",
       "  </thead>\n",
       "  <tbody>\n",
       "    <tr>\n",
       "      <th>0</th>\n",
       "      <td>100304734@n</td>\n",
       "      <td>103300</td>\n",
       "      <td>1</td>\n",
       "    </tr>\n",
       "    <tr>\n",
       "      <th>3</th>\n",
       "      <td>1004498382@k</td>\n",
       "      <td>76400</td>\n",
       "      <td>1</td>\n",
       "    </tr>\n",
       "    <tr>\n",
       "      <th>7</th>\n",
       "      <td>1005540326292754@f</td>\n",
       "      <td>60540</td>\n",
       "      <td>1</td>\n",
       "    </tr>\n",
       "    <tr>\n",
       "      <th>10</th>\n",
       "      <td>10073665@n</td>\n",
       "      <td>57600</td>\n",
       "      <td>1</td>\n",
       "    </tr>\n",
       "    <tr>\n",
       "      <th>11</th>\n",
       "      <td>100738387@n</td>\n",
       "      <td>93720</td>\n",
       "      <td>1</td>\n",
       "    </tr>\n",
       "  </tbody>\n",
       "</table>\n",
       "</div>"
      ],
      "text/plain": [
       "                    ID   총구매금액  총구매횟수\n",
       "0          100304734@n  103300      1\n",
       "3         1004498382@k   76400      1\n",
       "7   1005540326292754@f   60540      1\n",
       "10          10073665@n   57600      1\n",
       "11         100738387@n   93720      1"
      ]
     },
     "execution_count": 20,
     "metadata": {},
     "output_type": "execute_result"
    }
   ],
   "source": [
    "# 구매횟수가 1회인 데이터 확인\n",
    "order_preprocessed[order_preprocessed['총구매횟수'] == 1].head()"
   ]
  },
  {
   "cell_type": "code",
   "execution_count": 21,
   "metadata": {},
   "outputs": [
    {
     "data": {
      "text/html": [
       "<div>\n",
       "<style scoped>\n",
       "    .dataframe tbody tr th:only-of-type {\n",
       "        vertical-align: middle;\n",
       "    }\n",
       "\n",
       "    .dataframe tbody tr th {\n",
       "        vertical-align: top;\n",
       "    }\n",
       "\n",
       "    .dataframe thead th {\n",
       "        text-align: right;\n",
       "    }\n",
       "</style>\n",
       "<table border=\"1\" class=\"dataframe\">\n",
       "  <thead>\n",
       "    <tr style=\"text-align: right;\">\n",
       "      <th></th>\n",
       "      <th>ID</th>\n",
       "      <th>총구매금액</th>\n",
       "      <th>총구매횟수</th>\n",
       "    </tr>\n",
       "  </thead>\n",
       "  <tbody>\n",
       "    <tr>\n",
       "      <th>0</th>\n",
       "      <td>100304734@n</td>\n",
       "      <td>103300</td>\n",
       "      <td>1</td>\n",
       "    </tr>\n",
       "    <tr>\n",
       "      <th>2</th>\n",
       "      <td>100381931@n</td>\n",
       "      <td>41730</td>\n",
       "      <td>3</td>\n",
       "    </tr>\n",
       "    <tr>\n",
       "      <th>3</th>\n",
       "      <td>1004498382@k</td>\n",
       "      <td>76400</td>\n",
       "      <td>1</td>\n",
       "    </tr>\n",
       "    <tr>\n",
       "      <th>7</th>\n",
       "      <td>1005540326292754@f</td>\n",
       "      <td>60540</td>\n",
       "      <td>1</td>\n",
       "    </tr>\n",
       "    <tr>\n",
       "      <th>10</th>\n",
       "      <td>10073665@n</td>\n",
       "      <td>57600</td>\n",
       "      <td>1</td>\n",
       "    </tr>\n",
       "  </tbody>\n",
       "</table>\n",
       "</div>"
      ],
      "text/plain": [
       "                    ID   총구매금액  총구매횟수\n",
       "0          100304734@n  103300      1\n",
       "2          100381931@n   41730      3\n",
       "3         1004498382@k   76400      1\n",
       "7   1005540326292754@f   60540      1\n",
       "10          10073665@n   57600      1"
      ]
     },
     "execution_count": 21,
     "metadata": {},
     "output_type": "execute_result"
    }
   ],
   "source": [
    "# 구매횟수가 1회이거나 구매금액이 10만원 미만인 데이터 확인\n",
    "order_preprocessed[(order_preprocessed['총구매횟수'] == 1) | (order_preprocessed['총구매금액'] < 100000)].head()"
   ]
  },
  {
   "cell_type": "code",
   "execution_count": 22,
   "metadata": {},
   "outputs": [
    {
     "data": {
      "text/plain": [
       "ID       0\n",
       "총구매금액    0\n",
       "총구매횟수    0\n",
       "dtype: int64"
      ]
     },
     "execution_count": 22,
     "metadata": {},
     "output_type": "execute_result"
    }
   ],
   "source": [
    "# 결측치 확인\n",
    "order_preprocessed.isnull().sum()"
   ]
  },
  {
   "attachments": {},
   "cell_type": "markdown",
   "metadata": {},
   "source": [
    "### member 데이터 전처리"
   ]
  },
  {
   "cell_type": "code",
   "execution_count": 23,
   "metadata": {},
   "outputs": [
    {
     "data": {
      "text/html": [
       "<div>\n",
       "<style scoped>\n",
       "    .dataframe tbody tr th:only-of-type {\n",
       "        vertical-align: middle;\n",
       "    }\n",
       "\n",
       "    .dataframe tbody tr th {\n",
       "        vertical-align: top;\n",
       "    }\n",
       "\n",
       "    .dataframe thead th {\n",
       "        text-align: right;\n",
       "    }\n",
       "</style>\n",
       "<table border=\"1\" class=\"dataframe\">\n",
       "  <thead>\n",
       "    <tr style=\"text-align: right;\">\n",
       "      <th></th>\n",
       "      <th>ID</th>\n",
       "      <th>나이</th>\n",
       "      <th>사용가능 적립금</th>\n",
       "      <th>성별</th>\n",
       "      <th>주소(동/읍/면)</th>\n",
       "      <th>최종접속일</th>\n",
       "      <th>최종주문일</th>\n",
       "      <th>유입경로</th>\n",
       "      <th>유입기기</th>\n",
       "      <th>회원 가입일</th>\n",
       "      <th>사업자구분</th>\n",
       "      <th>회원구분</th>\n",
       "    </tr>\n",
       "  </thead>\n",
       "  <tbody>\n",
       "    <tr>\n",
       "      <th>0</th>\n",
       "      <td>sr7577</td>\n",
       "      <td>45</td>\n",
       "      <td>0</td>\n",
       "      <td>남자</td>\n",
       "      <td>경기도 평택시 현신3길 76 (용이동)</td>\n",
       "      <td>2016-12-30 오후 5:57</td>\n",
       "      <td>NaN</td>\n",
       "      <td>블로그광고</td>\n",
       "      <td>PC</td>\n",
       "      <td>2016-12-30</td>\n",
       "      <td>개인</td>\n",
       "      <td>일반</td>\n",
       "    </tr>\n",
       "    <tr>\n",
       "      <th>3</th>\n",
       "      <td>aabb8482</td>\n",
       "      <td>44</td>\n",
       "      <td>0</td>\n",
       "      <td>여자</td>\n",
       "      <td>충청남도 아산시 용화고길 46 (용화동)</td>\n",
       "      <td>2017-01-23 오후 6:25</td>\n",
       "      <td>NaN</td>\n",
       "      <td>블로그광고</td>\n",
       "      <td>PC</td>\n",
       "      <td>2017-01-17</td>\n",
       "      <td>사업자</td>\n",
       "      <td>사업자</td>\n",
       "    </tr>\n",
       "    <tr>\n",
       "      <th>8</th>\n",
       "      <td>rose3330</td>\n",
       "      <td>45</td>\n",
       "      <td>0</td>\n",
       "      <td>남자</td>\n",
       "      <td>충청남도 아산시 용화고길 46 (용화동)</td>\n",
       "      <td>2017-01-20 오후 7:13</td>\n",
       "      <td>NaN</td>\n",
       "      <td>블로그광고</td>\n",
       "      <td>PC</td>\n",
       "      <td>2017-01-20</td>\n",
       "      <td>개인</td>\n",
       "      <td>일반</td>\n",
       "    </tr>\n",
       "  </tbody>\n",
       "</table>\n",
       "</div>"
      ],
      "text/plain": [
       "         ID  나이  사용가능 적립금  성별               주소(동/읍/면)               최종접속일  \\\n",
       "0    sr7577  45         0  남자   경기도 평택시 현신3길 76 (용이동)  2016-12-30 오후 5:57   \n",
       "3  aabb8482  44         0  여자  충청남도 아산시 용화고길 46 (용화동)  2017-01-23 오후 6:25   \n",
       "8  rose3330  45         0  남자  충청남도 아산시 용화고길 46 (용화동)  2017-01-20 오후 7:13   \n",
       "\n",
       "  최종주문일   유입경로 유입기기      회원 가입일 사업자구분 회원구분  \n",
       "0   NaN  블로그광고   PC  2016-12-30    개인   일반  \n",
       "3   NaN  블로그광고   PC  2017-01-17   사업자  사업자  \n",
       "8   NaN  블로그광고   PC  2017-01-20    개인   일반  "
      ]
     },
     "execution_count": 23,
     "metadata": {},
     "output_type": "execute_result"
    }
   ],
   "source": [
    "# 구매력 없는 고객 데이터 분리\n",
    "member_low = member[member['최종주문일'].isnull() == True]\n",
    "member_low.head(3)"
   ]
  },
  {
   "cell_type": "code",
   "execution_count": 24,
   "metadata": {},
   "outputs": [
    {
     "name": "stderr",
     "output_type": "stream",
     "text": [
      "C:\\Users\\jhc74\\AppData\\Local\\Temp\\ipykernel_14516\\4088191672.py:2: SettingWithCopyWarning: \n",
      "A value is trying to be set on a copy of a slice from a DataFrame.\n",
      "Try using .loc[row_indexer,col_indexer] = value instead\n",
      "\n",
      "See the caveats in the documentation: https://pandas.pydata.org/pandas-docs/stable/user_guide/indexing.html#returning-a-view-versus-a-copy\n",
      "  member_low['나이묶음'] = member_low['나이'].apply(lambda x : 20 if x < 25 else (25 if x < 30 else (30 if x < 35 else (35 if x < 40 else (40 if x < 45 else (45 if x < 50 else 50))))))\n"
     ]
    },
    {
     "data": {
      "text/plain": [
       "0    45\n",
       "3    40\n",
       "8    45\n",
       "Name: 나이묶음, dtype: int64"
      ]
     },
     "execution_count": 24,
     "metadata": {},
     "output_type": "execute_result"
    }
   ],
   "source": [
    "# 연령대 열 생성\n",
    "member_low['나이묶음'] = member_low['나이'].apply(lambda x : 20 if x < 25 else (25 if x < 30 else (30 if x < 35 else (35 if x < 40 else (40 if x < 45 else (45 if x < 50 else 50))))))\n",
    "member_low['나이묶음'].head(3)"
   ]
  },
  {
   "cell_type": "code",
   "execution_count": 25,
   "metadata": {},
   "outputs": [
    {
     "name": "stderr",
     "output_type": "stream",
     "text": [
      "C:\\Users\\jhc74\\AppData\\Local\\Temp\\ipykernel_14516\\3930556952.py:2: SettingWithCopyWarning: \n",
      "A value is trying to be set on a copy of a slice from a DataFrame.\n",
      "Try using .loc[row_indexer,col_indexer] = value instead\n",
      "\n",
      "See the caveats in the documentation: https://pandas.pydata.org/pandas-docs/stable/user_guide/indexing.html#returning-a-view-versus-a-copy\n",
      "  member_low['주소(동/읍/면)'] = member_low['주소(동/읍/면)'].str.split(' ').str[0]\n"
     ]
    },
    {
     "data": {
      "text/plain": [
       "0     경기도\n",
       "3    충청남도\n",
       "8    충청남도\n",
       "Name: 주소(동/읍/면), dtype: object"
      ]
     },
     "execution_count": 25,
     "metadata": {},
     "output_type": "execute_result"
    }
   ],
   "source": [
    "# 주소 열 생성\n",
    "member_low['주소(동/읍/면)'] = member_low['주소(동/읍/면)'].str.split(' ').str[0]\n",
    "member_low['주소(동/읍/면)'].head(3)"
   ]
  },
  {
   "cell_type": "code",
   "execution_count": 26,
   "metadata": {},
   "outputs": [
    {
     "data": {
      "text/html": [
       "<div>\n",
       "<style scoped>\n",
       "    .dataframe tbody tr th:only-of-type {\n",
       "        vertical-align: middle;\n",
       "    }\n",
       "\n",
       "    .dataframe tbody tr th {\n",
       "        vertical-align: top;\n",
       "    }\n",
       "\n",
       "    .dataframe thead th {\n",
       "        text-align: right;\n",
       "    }\n",
       "</style>\n",
       "<table border=\"1\" class=\"dataframe\">\n",
       "  <thead>\n",
       "    <tr style=\"text-align: right;\">\n",
       "      <th></th>\n",
       "      <th>ID</th>\n",
       "      <th>성별</th>\n",
       "      <th>유입경로</th>\n",
       "      <th>유입기기</th>\n",
       "      <th>연령대</th>\n",
       "    </tr>\n",
       "  </thead>\n",
       "  <tbody>\n",
       "    <tr>\n",
       "      <th>0</th>\n",
       "      <td>sr7577</td>\n",
       "      <td>남자</td>\n",
       "      <td>블로그광고</td>\n",
       "      <td>PC</td>\n",
       "      <td>45</td>\n",
       "    </tr>\n",
       "    <tr>\n",
       "      <th>3</th>\n",
       "      <td>aabb8482</td>\n",
       "      <td>여자</td>\n",
       "      <td>블로그광고</td>\n",
       "      <td>PC</td>\n",
       "      <td>40</td>\n",
       "    </tr>\n",
       "    <tr>\n",
       "      <th>8</th>\n",
       "      <td>rose3330</td>\n",
       "      <td>남자</td>\n",
       "      <td>블로그광고</td>\n",
       "      <td>PC</td>\n",
       "      <td>45</td>\n",
       "    </tr>\n",
       "    <tr>\n",
       "      <th>13</th>\n",
       "      <td>ccomas2</td>\n",
       "      <td>남자</td>\n",
       "      <td>카카오톡광고</td>\n",
       "      <td>모바일</td>\n",
       "      <td>30</td>\n",
       "    </tr>\n",
       "    <tr>\n",
       "      <th>14</th>\n",
       "      <td>dusehd00</td>\n",
       "      <td>남자</td>\n",
       "      <td>블로그광고</td>\n",
       "      <td>PC</td>\n",
       "      <td>45</td>\n",
       "    </tr>\n",
       "  </tbody>\n",
       "</table>\n",
       "</div>"
      ],
      "text/plain": [
       "          ID  성별    유입경로 유입기기  연령대\n",
       "0     sr7577  남자   블로그광고   PC   45\n",
       "3   aabb8482  여자   블로그광고   PC   40\n",
       "8   rose3330  남자   블로그광고   PC   45\n",
       "13   ccomas2  남자  카카오톡광고  모바일   30\n",
       "14  dusehd00  남자   블로그광고   PC   45"
      ]
     },
     "execution_count": 26,
     "metadata": {},
     "output_type": "execute_result"
    }
   ],
   "source": [
    "# 필용벗는 열 삭제 및 열 이름 변경\n",
    "member_low2 = member_low.drop(['나이', '사용가능 적립금', '최종접속일', '최종주문일', '회원 가입일', '회원구분', '주소(동/읍/면)', '사업자구분'], axis=1)\n",
    "member_low2.columns = ['ID', '성별', '유입경로', '유입기기', '연령대']\n",
    "member_low2.head()"
   ]
  },
  {
   "cell_type": "code",
   "execution_count": 27,
   "metadata": {},
   "outputs": [
    {
     "name": "stderr",
     "output_type": "stream",
     "text": [
      "C:\\Users\\jhc74\\AppData\\Local\\Temp\\ipykernel_14516\\2568938533.py:2: SettingWithCopyWarning: \n",
      "A value is trying to be set on a copy of a slice from a DataFrame\n",
      "\n",
      "See the caveats in the documentation: https://pandas.pydata.org/pandas-docs/stable/user_guide/indexing.html#returning-a-view-versus-a-copy\n",
      "  member_low.drop(['ID', '나이', '사용가능 적립금', '최종접속일', '최종주문일', '회원 가입일', '회원구분'], axis=1, inplace=True)\n"
     ]
    },
    {
     "data": {
      "text/html": [
       "<div>\n",
       "<style scoped>\n",
       "    .dataframe tbody tr th:only-of-type {\n",
       "        vertical-align: middle;\n",
       "    }\n",
       "\n",
       "    .dataframe tbody tr th {\n",
       "        vertical-align: top;\n",
       "    }\n",
       "\n",
       "    .dataframe thead th {\n",
       "        text-align: right;\n",
       "    }\n",
       "</style>\n",
       "<table border=\"1\" class=\"dataframe\">\n",
       "  <thead>\n",
       "    <tr style=\"text-align: right;\">\n",
       "      <th></th>\n",
       "      <th>성별</th>\n",
       "      <th>주소(동/읍/면)</th>\n",
       "      <th>유입경로</th>\n",
       "      <th>유입기기</th>\n",
       "      <th>사업자구분</th>\n",
       "      <th>나이묶음</th>\n",
       "    </tr>\n",
       "  </thead>\n",
       "  <tbody>\n",
       "    <tr>\n",
       "      <th>0</th>\n",
       "      <td>남자</td>\n",
       "      <td>경기도</td>\n",
       "      <td>블로그광고</td>\n",
       "      <td>PC</td>\n",
       "      <td>개인</td>\n",
       "      <td>45</td>\n",
       "    </tr>\n",
       "    <tr>\n",
       "      <th>3</th>\n",
       "      <td>여자</td>\n",
       "      <td>충청남도</td>\n",
       "      <td>블로그광고</td>\n",
       "      <td>PC</td>\n",
       "      <td>사업자</td>\n",
       "      <td>40</td>\n",
       "    </tr>\n",
       "    <tr>\n",
       "      <th>8</th>\n",
       "      <td>남자</td>\n",
       "      <td>충청남도</td>\n",
       "      <td>블로그광고</td>\n",
       "      <td>PC</td>\n",
       "      <td>개인</td>\n",
       "      <td>45</td>\n",
       "    </tr>\n",
       "    <tr>\n",
       "      <th>13</th>\n",
       "      <td>남자</td>\n",
       "      <td>충청북도</td>\n",
       "      <td>카카오톡광고</td>\n",
       "      <td>모바일</td>\n",
       "      <td>개인</td>\n",
       "      <td>30</td>\n",
       "    </tr>\n",
       "    <tr>\n",
       "      <th>14</th>\n",
       "      <td>남자</td>\n",
       "      <td>제주특별자치도</td>\n",
       "      <td>블로그광고</td>\n",
       "      <td>PC</td>\n",
       "      <td>사업자</td>\n",
       "      <td>45</td>\n",
       "    </tr>\n",
       "  </tbody>\n",
       "</table>\n",
       "</div>"
      ],
      "text/plain": [
       "    성별 주소(동/읍/면)    유입경로 유입기기 사업자구분  나이묶음\n",
       "0   남자       경기도   블로그광고   PC    개인    45\n",
       "3   여자      충청남도   블로그광고   PC   사업자    40\n",
       "8   남자      충청남도   블로그광고   PC    개인    45\n",
       "13  남자      충청북도  카카오톡광고  모바일    개인    30\n",
       "14  남자   제주특별자치도   블로그광고   PC   사업자    45"
      ]
     },
     "execution_count": 27,
     "metadata": {},
     "output_type": "execute_result"
    }
   ],
   "source": [
    "# 필요없는 열 삭제\n",
    "member_low.drop(['ID', '나이', '사용가능 적립금', '최종접속일', '최종주문일', '회원 가입일', '회원구분'], axis=1, inplace=True)\n",
    "member_low.head()"
   ]
  },
  {
   "cell_type": "code",
   "execution_count": 28,
   "metadata": {},
   "outputs": [
    {
     "name": "stderr",
     "output_type": "stream",
     "text": [
      "C:\\Users\\jhc74\\AppData\\Local\\Temp\\ipykernel_14516\\711992177.py:2: SettingWithCopyWarning: \n",
      "A value is trying to be set on a copy of a slice from a DataFrame.\n",
      "Try using .loc[row_indexer,col_indexer] = value instead\n",
      "\n",
      "See the caveats in the documentation: https://pandas.pydata.org/pandas-docs/stable/user_guide/indexing.html#returning-a-view-versus-a-copy\n",
      "  member_low['구매력'] = 0\n"
     ]
    },
    {
     "data": {
      "text/html": [
       "<div>\n",
       "<style scoped>\n",
       "    .dataframe tbody tr th:only-of-type {\n",
       "        vertical-align: middle;\n",
       "    }\n",
       "\n",
       "    .dataframe tbody tr th {\n",
       "        vertical-align: top;\n",
       "    }\n",
       "\n",
       "    .dataframe thead th {\n",
       "        text-align: right;\n",
       "    }\n",
       "</style>\n",
       "<table border=\"1\" class=\"dataframe\">\n",
       "  <thead>\n",
       "    <tr style=\"text-align: right;\">\n",
       "      <th></th>\n",
       "      <th>성별</th>\n",
       "      <th>주소(동/읍/면)</th>\n",
       "      <th>유입경로</th>\n",
       "      <th>유입기기</th>\n",
       "      <th>사업자구분</th>\n",
       "      <th>나이묶음</th>\n",
       "      <th>구매력</th>\n",
       "    </tr>\n",
       "  </thead>\n",
       "  <tbody>\n",
       "    <tr>\n",
       "      <th>0</th>\n",
       "      <td>남자</td>\n",
       "      <td>경기도</td>\n",
       "      <td>블로그광고</td>\n",
       "      <td>PC</td>\n",
       "      <td>개인</td>\n",
       "      <td>45</td>\n",
       "      <td>0</td>\n",
       "    </tr>\n",
       "    <tr>\n",
       "      <th>3</th>\n",
       "      <td>여자</td>\n",
       "      <td>충청남도</td>\n",
       "      <td>블로그광고</td>\n",
       "      <td>PC</td>\n",
       "      <td>사업자</td>\n",
       "      <td>40</td>\n",
       "      <td>0</td>\n",
       "    </tr>\n",
       "    <tr>\n",
       "      <th>8</th>\n",
       "      <td>남자</td>\n",
       "      <td>충청남도</td>\n",
       "      <td>블로그광고</td>\n",
       "      <td>PC</td>\n",
       "      <td>개인</td>\n",
       "      <td>45</td>\n",
       "      <td>0</td>\n",
       "    </tr>\n",
       "    <tr>\n",
       "      <th>13</th>\n",
       "      <td>남자</td>\n",
       "      <td>충청북도</td>\n",
       "      <td>카카오톡광고</td>\n",
       "      <td>모바일</td>\n",
       "      <td>개인</td>\n",
       "      <td>30</td>\n",
       "      <td>0</td>\n",
       "    </tr>\n",
       "    <tr>\n",
       "      <th>14</th>\n",
       "      <td>남자</td>\n",
       "      <td>제주특별자치도</td>\n",
       "      <td>블로그광고</td>\n",
       "      <td>PC</td>\n",
       "      <td>사업자</td>\n",
       "      <td>45</td>\n",
       "      <td>0</td>\n",
       "    </tr>\n",
       "  </tbody>\n",
       "</table>\n",
       "</div>"
      ],
      "text/plain": [
       "    성별 주소(동/읍/면)    유입경로 유입기기 사업자구분  나이묶음  구매력\n",
       "0   남자       경기도   블로그광고   PC    개인    45    0\n",
       "3   여자      충청남도   블로그광고   PC   사업자    40    0\n",
       "8   남자      충청남도   블로그광고   PC    개인    45    0\n",
       "13  남자      충청북도  카카오톡광고  모바일    개인    30    0\n",
       "14  남자   제주특별자치도   블로그광고   PC   사업자    45    0"
      ]
     },
     "execution_count": 28,
     "metadata": {},
     "output_type": "execute_result"
    }
   ],
   "source": [
    "# 구매력 열 추가\n",
    "member_low['구매력'] = 0\n",
    "member_low.head()"
   ]
  },
  {
   "attachments": {},
   "cell_type": "markdown",
   "metadata": {},
   "source": [
    "### order, member 데이터 merge 후 전처리"
   ]
  },
  {
   "cell_type": "code",
   "execution_count": 29,
   "metadata": {},
   "outputs": [
    {
     "data": {
      "text/html": [
       "<div>\n",
       "<style scoped>\n",
       "    .dataframe tbody tr th:only-of-type {\n",
       "        vertical-align: middle;\n",
       "    }\n",
       "\n",
       "    .dataframe tbody tr th {\n",
       "        vertical-align: top;\n",
       "    }\n",
       "\n",
       "    .dataframe thead th {\n",
       "        text-align: right;\n",
       "    }\n",
       "</style>\n",
       "<table border=\"1\" class=\"dataframe\">\n",
       "  <thead>\n",
       "    <tr style=\"text-align: right;\">\n",
       "      <th></th>\n",
       "      <th>ID</th>\n",
       "      <th>나이</th>\n",
       "      <th>사용가능 적립금</th>\n",
       "      <th>성별</th>\n",
       "      <th>주소(동/읍/면)</th>\n",
       "      <th>최종접속일</th>\n",
       "      <th>최종주문일</th>\n",
       "      <th>유입경로</th>\n",
       "      <th>유입기기</th>\n",
       "      <th>회원 가입일</th>\n",
       "      <th>사업자구분</th>\n",
       "      <th>회원구분</th>\n",
       "      <th>총구매금액</th>\n",
       "      <th>총구매횟수</th>\n",
       "    </tr>\n",
       "  </thead>\n",
       "  <tbody>\n",
       "    <tr>\n",
       "      <th>0</th>\n",
       "      <td>cgh1385</td>\n",
       "      <td>53</td>\n",
       "      <td>0</td>\n",
       "      <td>남자</td>\n",
       "      <td>전라북도 전주시 덕진구 동부대로 879 (호성동1가)</td>\n",
       "      <td>2017-01-02 오후 12:32</td>\n",
       "      <td>2017-01-01 오후 3:38</td>\n",
       "      <td>블로그광고</td>\n",
       "      <td>모바일</td>\n",
       "      <td>2017-01-01</td>\n",
       "      <td>개인</td>\n",
       "      <td>일반</td>\n",
       "      <td>66500</td>\n",
       "      <td>1</td>\n",
       "    </tr>\n",
       "    <tr>\n",
       "      <th>1</th>\n",
       "      <td>pjkl77</td>\n",
       "      <td>28</td>\n",
       "      <td>0</td>\n",
       "      <td>남자</td>\n",
       "      <td>전라북도 전주시 완산구 효자동3가 1676-13</td>\n",
       "      <td>2017-02-26 오후 10:52</td>\n",
       "      <td>2017-02-26 오후 10:55</td>\n",
       "      <td>이메일광고</td>\n",
       "      <td>PC</td>\n",
       "      <td>2017-01-14</td>\n",
       "      <td>사업자</td>\n",
       "      <td>사업자</td>\n",
       "      <td>51000</td>\n",
       "      <td>3</td>\n",
       "    </tr>\n",
       "    <tr>\n",
       "      <th>2</th>\n",
       "      <td>bear011</td>\n",
       "      <td>40</td>\n",
       "      <td>21908</td>\n",
       "      <td>남자</td>\n",
       "      <td>경기도 부천시 원미구 상일로 126 (상동)</td>\n",
       "      <td>2018-12-19 오후 1:26</td>\n",
       "      <td>2018-12-19 오후 1:29</td>\n",
       "      <td>SNS광고</td>\n",
       "      <td>모바일</td>\n",
       "      <td>2017-01-17</td>\n",
       "      <td>사업자</td>\n",
       "      <td>사업자</td>\n",
       "      <td>1879670</td>\n",
       "      <td>23</td>\n",
       "    </tr>\n",
       "    <tr>\n",
       "      <th>3</th>\n",
       "      <td>kim0750</td>\n",
       "      <td>44</td>\n",
       "      <td>0</td>\n",
       "      <td>남자</td>\n",
       "      <td>경상북도 구미시 송동로7길 31-3 (도량동)</td>\n",
       "      <td>2017-01-18 오후 4:28</td>\n",
       "      <td>2017-01-18 오후 4:41</td>\n",
       "      <td>SNS광고</td>\n",
       "      <td>PC</td>\n",
       "      <td>2017-01-18</td>\n",
       "      <td>사업자</td>\n",
       "      <td>사업자</td>\n",
       "      <td>73700</td>\n",
       "      <td>1</td>\n",
       "    </tr>\n",
       "    <tr>\n",
       "      <th>4</th>\n",
       "      <td>nonane9979</td>\n",
       "      <td>45</td>\n",
       "      <td>0</td>\n",
       "      <td>남자</td>\n",
       "      <td>부산광역시 금정구 중앙대로 1607 (부곡동)</td>\n",
       "      <td>2017-02-13 오후 2:54</td>\n",
       "      <td>2017-02-13 오후 3:12</td>\n",
       "      <td>블로그광고</td>\n",
       "      <td>PC</td>\n",
       "      <td>2017-01-18</td>\n",
       "      <td>사업자</td>\n",
       "      <td>사업자</td>\n",
       "      <td>226900</td>\n",
       "      <td>3</td>\n",
       "    </tr>\n",
       "  </tbody>\n",
       "</table>\n",
       "</div>"
      ],
      "text/plain": [
       "           ID  나이  사용가능 적립금  성별                      주소(동/읍/면)  \\\n",
       "0     cgh1385  53         0  남자  전라북도 전주시 덕진구 동부대로 879 (호성동1가)   \n",
       "1      pjkl77  28         0  남자     전라북도 전주시 완산구 효자동3가 1676-13   \n",
       "2     bear011  40     21908  남자       경기도 부천시 원미구 상일로 126 (상동)   \n",
       "3     kim0750  44         0  남자      경상북도 구미시 송동로7길 31-3 (도량동)   \n",
       "4  nonane9979  45         0  남자      부산광역시 금정구 중앙대로 1607 (부곡동)   \n",
       "\n",
       "                 최종접속일                최종주문일   유입경로 유입기기      회원 가입일 사업자구분  \\\n",
       "0  2017-01-02 오후 12:32   2017-01-01 오후 3:38  블로그광고  모바일  2017-01-01    개인   \n",
       "1  2017-02-26 오후 10:52  2017-02-26 오후 10:55  이메일광고   PC  2017-01-14   사업자   \n",
       "2   2018-12-19 오후 1:26   2018-12-19 오후 1:29  SNS광고  모바일  2017-01-17   사업자   \n",
       "3   2017-01-18 오후 4:28   2017-01-18 오후 4:41  SNS광고   PC  2017-01-18   사업자   \n",
       "4   2017-02-13 오후 2:54   2017-02-13 오후 3:12  블로그광고   PC  2017-01-18   사업자   \n",
       "\n",
       "  회원구분    총구매금액  총구매횟수  \n",
       "0   일반    66500      1  \n",
       "1  사업자    51000      3  \n",
       "2  사업자  1879670     23  \n",
       "3  사업자    73700      1  \n",
       "4  사업자   226900      3  "
      ]
     },
     "execution_count": 29,
     "metadata": {},
     "output_type": "execute_result"
    }
   ],
   "source": [
    "# member 데이터와 order 데이터 merge\n",
    "merge_member_order = member.merge(right=order_preprocessed, left_on='ID', right_on='ID')\n",
    "merge_member_order.head()"
   ]
  },
  {
   "cell_type": "code",
   "execution_count": 30,
   "metadata": {},
   "outputs": [
    {
     "data": {
      "text/html": [
       "<div>\n",
       "<style scoped>\n",
       "    .dataframe tbody tr th:only-of-type {\n",
       "        vertical-align: middle;\n",
       "    }\n",
       "\n",
       "    .dataframe tbody tr th {\n",
       "        vertical-align: top;\n",
       "    }\n",
       "\n",
       "    .dataframe thead th {\n",
       "        text-align: right;\n",
       "    }\n",
       "</style>\n",
       "<table border=\"1\" class=\"dataframe\">\n",
       "  <thead>\n",
       "    <tr style=\"text-align: right;\">\n",
       "      <th></th>\n",
       "      <th>ID</th>\n",
       "      <th>나이</th>\n",
       "      <th>성별</th>\n",
       "      <th>주소(동/읍/면)</th>\n",
       "      <th>유입경로</th>\n",
       "      <th>유입기기</th>\n",
       "      <th>사업자구분</th>\n",
       "      <th>총구매금액</th>\n",
       "      <th>총구매횟수</th>\n",
       "    </tr>\n",
       "  </thead>\n",
       "  <tbody>\n",
       "    <tr>\n",
       "      <th>0</th>\n",
       "      <td>cgh1385</td>\n",
       "      <td>53</td>\n",
       "      <td>남자</td>\n",
       "      <td>전라북도 전주시 덕진구 동부대로 879 (호성동1가)</td>\n",
       "      <td>블로그광고</td>\n",
       "      <td>모바일</td>\n",
       "      <td>개인</td>\n",
       "      <td>66500</td>\n",
       "      <td>1</td>\n",
       "    </tr>\n",
       "    <tr>\n",
       "      <th>1</th>\n",
       "      <td>pjkl77</td>\n",
       "      <td>28</td>\n",
       "      <td>남자</td>\n",
       "      <td>전라북도 전주시 완산구 효자동3가 1676-13</td>\n",
       "      <td>이메일광고</td>\n",
       "      <td>PC</td>\n",
       "      <td>사업자</td>\n",
       "      <td>51000</td>\n",
       "      <td>3</td>\n",
       "    </tr>\n",
       "    <tr>\n",
       "      <th>2</th>\n",
       "      <td>bear011</td>\n",
       "      <td>40</td>\n",
       "      <td>남자</td>\n",
       "      <td>경기도 부천시 원미구 상일로 126 (상동)</td>\n",
       "      <td>SNS광고</td>\n",
       "      <td>모바일</td>\n",
       "      <td>사업자</td>\n",
       "      <td>1879670</td>\n",
       "      <td>23</td>\n",
       "    </tr>\n",
       "    <tr>\n",
       "      <th>3</th>\n",
       "      <td>kim0750</td>\n",
       "      <td>44</td>\n",
       "      <td>남자</td>\n",
       "      <td>경상북도 구미시 송동로7길 31-3 (도량동)</td>\n",
       "      <td>SNS광고</td>\n",
       "      <td>PC</td>\n",
       "      <td>사업자</td>\n",
       "      <td>73700</td>\n",
       "      <td>1</td>\n",
       "    </tr>\n",
       "    <tr>\n",
       "      <th>4</th>\n",
       "      <td>nonane9979</td>\n",
       "      <td>45</td>\n",
       "      <td>남자</td>\n",
       "      <td>부산광역시 금정구 중앙대로 1607 (부곡동)</td>\n",
       "      <td>블로그광고</td>\n",
       "      <td>PC</td>\n",
       "      <td>사업자</td>\n",
       "      <td>226900</td>\n",
       "      <td>3</td>\n",
       "    </tr>\n",
       "  </tbody>\n",
       "</table>\n",
       "</div>"
      ],
      "text/plain": [
       "           ID  나이  성별                      주소(동/읍/면)   유입경로 유입기기 사업자구분  \\\n",
       "0     cgh1385  53  남자  전라북도 전주시 덕진구 동부대로 879 (호성동1가)  블로그광고  모바일    개인   \n",
       "1      pjkl77  28  남자     전라북도 전주시 완산구 효자동3가 1676-13  이메일광고   PC   사업자   \n",
       "2     bear011  40  남자       경기도 부천시 원미구 상일로 126 (상동)  SNS광고  모바일   사업자   \n",
       "3     kim0750  44  남자      경상북도 구미시 송동로7길 31-3 (도량동)  SNS광고   PC   사업자   \n",
       "4  nonane9979  45  남자      부산광역시 금정구 중앙대로 1607 (부곡동)  블로그광고   PC   사업자   \n",
       "\n",
       "     총구매금액  총구매횟수  \n",
       "0    66500      1  \n",
       "1    51000      3  \n",
       "2  1879670     23  \n",
       "3    73700      1  \n",
       "4   226900      3  "
      ]
     },
     "execution_count": 30,
     "metadata": {},
     "output_type": "execute_result"
    }
   ],
   "source": [
    "# 필요 없는 열 삭제\n",
    "merge_member_order.drop(['사용가능 적립금', '최종접속일', '최종주문일', '회원 가입일', '회원구분'], axis=1, inplace=True)\n",
    "merge_member_order.head()"
   ]
  },
  {
   "cell_type": "code",
   "execution_count": 31,
   "metadata": {},
   "outputs": [],
   "source": [
    "# 사업자구분 열의 외국인 행 삭제 (2개)\n",
    "merge_member_order.drop(merge_member_order[merge_member_order['사업자구분'] == '외국인'].index, inplace=True)"
   ]
  },
  {
   "cell_type": "code",
   "execution_count": 32,
   "metadata": {},
   "outputs": [
    {
     "data": {
      "text/plain": [
       "경기도        911\n",
       "서울특별시      625\n",
       "부산광역시      485\n",
       "경상남도       445\n",
       "경상북도       317\n",
       "강원도        257\n",
       "충청남도       248\n",
       "대구광역시      232\n",
       "인천광역시      229\n",
       "전라남도       185\n",
       "충청북도       184\n",
       "전라북도       171\n",
       "대전광역시      143\n",
       "광주광역시      128\n",
       "울산광역시      123\n",
       "제주특별자치도     65\n",
       "세종특별자치시     40\n",
       "Name: 주소(동/읍/면), dtype: int64"
      ]
     },
     "execution_count": 32,
     "metadata": {},
     "output_type": "execute_result"
    }
   ],
   "source": [
    "# 주소 시, 도로 통일\n",
    "merge_member_order['주소(동/읍/면)'] = merge_member_order['주소(동/읍/면)'].str.split(' ').str[0]\n",
    "merge_member_order['주소(동/읍/면)'].value_counts()"
   ]
  },
  {
   "cell_type": "code",
   "execution_count": 33,
   "metadata": {},
   "outputs": [
    {
     "data": {
      "text/plain": [
       "0    50\n",
       "1    25\n",
       "2    40\n",
       "3    40\n",
       "4    45\n",
       "Name: 나이묶음, dtype: int64"
      ]
     },
     "execution_count": 33,
     "metadata": {},
     "output_type": "execute_result"
    }
   ],
   "source": [
    "# 연령대 열 생성\n",
    "merge_member_order['나이묶음'] = merge_member_order['나이'].apply(lambda x : 20 if x < 25 else (25 if x < 30 else (30 if x < 35 else (35 if x < 40 else (40 if x < 45 else (45 if x < 50 else 50))))))\n",
    "merge_member_order['나이묶음'].head()"
   ]
  },
  {
   "cell_type": "code",
   "execution_count": 34,
   "metadata": {},
   "outputs": [],
   "source": [
    "# 구매력 열 추가\n",
    "merge_member_order['구매력'] = 1"
   ]
  },
  {
   "cell_type": "code",
   "execution_count": 35,
   "metadata": {},
   "outputs": [
    {
     "data": {
      "text/html": [
       "<div>\n",
       "<style scoped>\n",
       "    .dataframe tbody tr th:only-of-type {\n",
       "        vertical-align: middle;\n",
       "    }\n",
       "\n",
       "    .dataframe tbody tr th {\n",
       "        vertical-align: top;\n",
       "    }\n",
       "\n",
       "    .dataframe thead th {\n",
       "        text-align: right;\n",
       "    }\n",
       "</style>\n",
       "<table border=\"1\" class=\"dataframe\">\n",
       "  <thead>\n",
       "    <tr style=\"text-align: right;\">\n",
       "      <th></th>\n",
       "      <th>총구매금액</th>\n",
       "    </tr>\n",
       "    <tr>\n",
       "      <th>연령대</th>\n",
       "      <th></th>\n",
       "    </tr>\n",
       "  </thead>\n",
       "  <tbody>\n",
       "    <tr>\n",
       "      <th>20</th>\n",
       "      <td>938193.0</td>\n",
       "    </tr>\n",
       "    <tr>\n",
       "      <th>25</th>\n",
       "      <td>590505.0</td>\n",
       "    </tr>\n",
       "    <tr>\n",
       "      <th>30</th>\n",
       "      <td>295647.0</td>\n",
       "    </tr>\n",
       "    <tr>\n",
       "      <th>35</th>\n",
       "      <td>627131.0</td>\n",
       "    </tr>\n",
       "    <tr>\n",
       "      <th>40</th>\n",
       "      <td>880669.0</td>\n",
       "    </tr>\n",
       "    <tr>\n",
       "      <th>45</th>\n",
       "      <td>197632.0</td>\n",
       "    </tr>\n",
       "    <tr>\n",
       "      <th>50</th>\n",
       "      <td>924011.0</td>\n",
       "    </tr>\n",
       "  </tbody>\n",
       "</table>\n",
       "</div>"
      ],
      "text/plain": [
       "        총구매금액\n",
       "연령대          \n",
       "20   938193.0\n",
       "25   590505.0\n",
       "30   295647.0\n",
       "35   627131.0\n",
       "40   880669.0\n",
       "45   197632.0\n",
       "50   924011.0"
      ]
     },
     "execution_count": 35,
     "metadata": {},
     "output_type": "execute_result"
    }
   ],
   "source": [
    "# 연령대별 총 구매금액 확인\n",
    "ID_sum = merge_member_order.copy()\n",
    "ID_sum = ID_sum[['나이묶음', '총구매금액']]\n",
    "ID_sum.columns = ['연령대', '총구매금액']\n",
    "ID_sum_group = ID_sum.groupby('연령대')[['총구매금액']].mean()\n",
    "ID_sum_group['총구매금액'] = ID_sum_group['총구매금액'].round()\n",
    "ID_sum_group"
   ]
  },
  {
   "cell_type": "code",
   "execution_count": 36,
   "metadata": {},
   "outputs": [
    {
     "data": {
      "text/html": [
       "<div>\n",
       "<style scoped>\n",
       "    .dataframe tbody tr th:only-of-type {\n",
       "        vertical-align: middle;\n",
       "    }\n",
       "\n",
       "    .dataframe tbody tr th {\n",
       "        vertical-align: top;\n",
       "    }\n",
       "\n",
       "    .dataframe thead th {\n",
       "        text-align: right;\n",
       "    }\n",
       "</style>\n",
       "<table border=\"1\" class=\"dataframe\">\n",
       "  <thead>\n",
       "    <tr style=\"text-align: right;\">\n",
       "      <th></th>\n",
       "      <th>평균 구매금액</th>\n",
       "    </tr>\n",
       "    <tr>\n",
       "      <th>연령대</th>\n",
       "      <th></th>\n",
       "    </tr>\n",
       "  </thead>\n",
       "  <tbody>\n",
       "    <tr>\n",
       "      <th>20</th>\n",
       "      <td>938193.0</td>\n",
       "    </tr>\n",
       "    <tr>\n",
       "      <th>25</th>\n",
       "      <td>590505.0</td>\n",
       "    </tr>\n",
       "    <tr>\n",
       "      <th>30</th>\n",
       "      <td>295647.0</td>\n",
       "    </tr>\n",
       "    <tr>\n",
       "      <th>35</th>\n",
       "      <td>627131.0</td>\n",
       "    </tr>\n",
       "    <tr>\n",
       "      <th>40</th>\n",
       "      <td>880669.0</td>\n",
       "    </tr>\n",
       "    <tr>\n",
       "      <th>45</th>\n",
       "      <td>197632.0</td>\n",
       "    </tr>\n",
       "    <tr>\n",
       "      <th>50</th>\n",
       "      <td>924011.0</td>\n",
       "    </tr>\n",
       "  </tbody>\n",
       "</table>\n",
       "</div>"
      ],
      "text/plain": [
       "      평균 구매금액\n",
       "연령대          \n",
       "20   938193.0\n",
       "25   590505.0\n",
       "30   295647.0\n",
       "35   627131.0\n",
       "40   880669.0\n",
       "45   197632.0\n",
       "50   924011.0"
      ]
     },
     "execution_count": 36,
     "metadata": {},
     "output_type": "execute_result"
    }
   ],
   "source": [
    "# 연령대별 평균 구매금액 확인\n",
    "ID_sum_group.columns = ['평균 구매금액']\n",
    "ID_sum_group"
   ]
  },
  {
   "cell_type": "code",
   "execution_count": 37,
   "metadata": {},
   "outputs": [
    {
     "name": "stderr",
     "output_type": "stream",
     "text": [
      "C:\\Users\\jhc74\\AppData\\Local\\Temp\\ipykernel_14516\\1870407416.py:3: SettingWithCopyWarning: \n",
      "A value is trying to be set on a copy of a slice from a DataFrame\n",
      "\n",
      "See the caveats in the documentation: https://pandas.pydata.org/pandas-docs/stable/user_guide/indexing.html#returning-a-view-versus-a-copy\n",
      "  merge_member_order['구매력'][(merge_member_order['총구매횟수'] == 1) & (merge_member_order['총구매금액'] <= 50000)] = 0\n"
     ]
    },
    {
     "data": {
      "text/plain": [
       "1    4730\n",
       "0     208\n",
       "Name: 구매력, dtype: int64"
      ]
     },
     "execution_count": 37,
     "metadata": {},
     "output_type": "execute_result"
    }
   ],
   "source": [
    "# 구매력 적은 사람 제거 >> 단기적인 매출은 오를 수 있지만 다시 정체될 가능성이 있는 고객층, \n",
    "# 구매 후 1년 이상 재구매가 없는 고객층, 총 구매금액 포함이유(한번에 많이 사서 창고에 두는 고객이 있을 수 있음)\n",
    "merge_member_order['구매력'][(merge_member_order['총구매횟수'] == 1) & (merge_member_order['총구매금액'] <= 50000)] = 0\n",
    "merge_member_order['구매력'].value_counts()"
   ]
  },
  {
   "cell_type": "code",
   "execution_count": 38,
   "metadata": {},
   "outputs": [
    {
     "data": {
      "text/html": [
       "<div>\n",
       "<style scoped>\n",
       "    .dataframe tbody tr th:only-of-type {\n",
       "        vertical-align: middle;\n",
       "    }\n",
       "\n",
       "    .dataframe tbody tr th {\n",
       "        vertical-align: top;\n",
       "    }\n",
       "\n",
       "    .dataframe thead th {\n",
       "        text-align: right;\n",
       "    }\n",
       "</style>\n",
       "<table border=\"1\" class=\"dataframe\">\n",
       "  <thead>\n",
       "    <tr style=\"text-align: right;\">\n",
       "      <th></th>\n",
       "      <th>성별</th>\n",
       "      <th>주소(동/읍/면)</th>\n",
       "      <th>유입경로</th>\n",
       "      <th>유입기기</th>\n",
       "      <th>사업자구분</th>\n",
       "      <th>나이묶음</th>\n",
       "      <th>구매력</th>\n",
       "    </tr>\n",
       "  </thead>\n",
       "  <tbody>\n",
       "    <tr>\n",
       "      <th>0</th>\n",
       "      <td>남자</td>\n",
       "      <td>전라북도</td>\n",
       "      <td>블로그광고</td>\n",
       "      <td>모바일</td>\n",
       "      <td>개인</td>\n",
       "      <td>50</td>\n",
       "      <td>1</td>\n",
       "    </tr>\n",
       "    <tr>\n",
       "      <th>1</th>\n",
       "      <td>남자</td>\n",
       "      <td>전라북도</td>\n",
       "      <td>이메일광고</td>\n",
       "      <td>PC</td>\n",
       "      <td>사업자</td>\n",
       "      <td>25</td>\n",
       "      <td>1</td>\n",
       "    </tr>\n",
       "    <tr>\n",
       "      <th>2</th>\n",
       "      <td>남자</td>\n",
       "      <td>경기도</td>\n",
       "      <td>SNS광고</td>\n",
       "      <td>모바일</td>\n",
       "      <td>사업자</td>\n",
       "      <td>40</td>\n",
       "      <td>1</td>\n",
       "    </tr>\n",
       "    <tr>\n",
       "      <th>3</th>\n",
       "      <td>남자</td>\n",
       "      <td>경상북도</td>\n",
       "      <td>SNS광고</td>\n",
       "      <td>PC</td>\n",
       "      <td>사업자</td>\n",
       "      <td>40</td>\n",
       "      <td>1</td>\n",
       "    </tr>\n",
       "    <tr>\n",
       "      <th>4</th>\n",
       "      <td>남자</td>\n",
       "      <td>부산광역시</td>\n",
       "      <td>블로그광고</td>\n",
       "      <td>PC</td>\n",
       "      <td>사업자</td>\n",
       "      <td>45</td>\n",
       "      <td>1</td>\n",
       "    </tr>\n",
       "  </tbody>\n",
       "</table>\n",
       "</div>"
      ],
      "text/plain": [
       "   성별 주소(동/읍/면)   유입경로 유입기기 사업자구분  나이묶음  구매력\n",
       "0  남자      전라북도  블로그광고  모바일    개인    50    1\n",
       "1  남자      전라북도  이메일광고   PC   사업자    25    1\n",
       "2  남자       경기도  SNS광고  모바일   사업자    40    1\n",
       "3  남자      경상북도  SNS광고   PC   사업자    40    1\n",
       "4  남자     부산광역시  블로그광고   PC   사업자    45    1"
      ]
     },
     "execution_count": 38,
     "metadata": {},
     "output_type": "execute_result"
    }
   ],
   "source": [
    "# 필요없는 열 삭제\n",
    "merge_member_order.drop(['ID', '나이', '총구매금액', '총구매횟수'], axis=1, inplace=True)\n",
    "merge_member_order.head()"
   ]
  },
  {
   "cell_type": "code",
   "execution_count": 39,
   "metadata": {},
   "outputs": [
    {
     "data": {
      "text/html": [
       "<div>\n",
       "<style scoped>\n",
       "    .dataframe tbody tr th:only-of-type {\n",
       "        vertical-align: middle;\n",
       "    }\n",
       "\n",
       "    .dataframe tbody tr th {\n",
       "        vertical-align: top;\n",
       "    }\n",
       "\n",
       "    .dataframe thead th {\n",
       "        text-align: right;\n",
       "    }\n",
       "</style>\n",
       "<table border=\"1\" class=\"dataframe\">\n",
       "  <thead>\n",
       "    <tr style=\"text-align: right;\">\n",
       "      <th></th>\n",
       "      <th>성별</th>\n",
       "      <th>주소(동/읍/면)</th>\n",
       "      <th>유입경로</th>\n",
       "      <th>유입기기</th>\n",
       "      <th>사업자구분</th>\n",
       "      <th>나이묶음</th>\n",
       "      <th>구매력</th>\n",
       "    </tr>\n",
       "  </thead>\n",
       "  <tbody>\n",
       "    <tr>\n",
       "      <th>0</th>\n",
       "      <td>남자</td>\n",
       "      <td>전라북도</td>\n",
       "      <td>블로그광고</td>\n",
       "      <td>모바일</td>\n",
       "      <td>개인</td>\n",
       "      <td>50</td>\n",
       "      <td>1</td>\n",
       "    </tr>\n",
       "    <tr>\n",
       "      <th>1</th>\n",
       "      <td>남자</td>\n",
       "      <td>전라북도</td>\n",
       "      <td>이메일광고</td>\n",
       "      <td>PC</td>\n",
       "      <td>사업자</td>\n",
       "      <td>25</td>\n",
       "      <td>1</td>\n",
       "    </tr>\n",
       "    <tr>\n",
       "      <th>2</th>\n",
       "      <td>남자</td>\n",
       "      <td>경기도</td>\n",
       "      <td>SNS광고</td>\n",
       "      <td>모바일</td>\n",
       "      <td>사업자</td>\n",
       "      <td>40</td>\n",
       "      <td>1</td>\n",
       "    </tr>\n",
       "    <tr>\n",
       "      <th>3</th>\n",
       "      <td>남자</td>\n",
       "      <td>경상북도</td>\n",
       "      <td>SNS광고</td>\n",
       "      <td>PC</td>\n",
       "      <td>사업자</td>\n",
       "      <td>40</td>\n",
       "      <td>1</td>\n",
       "    </tr>\n",
       "    <tr>\n",
       "      <th>4</th>\n",
       "      <td>남자</td>\n",
       "      <td>부산광역시</td>\n",
       "      <td>블로그광고</td>\n",
       "      <td>PC</td>\n",
       "      <td>사업자</td>\n",
       "      <td>45</td>\n",
       "      <td>1</td>\n",
       "    </tr>\n",
       "  </tbody>\n",
       "</table>\n",
       "</div>"
      ],
      "text/plain": [
       "   성별 주소(동/읍/면)   유입경로 유입기기 사업자구분  나이묶음  구매력\n",
       "0  남자      전라북도  블로그광고  모바일    개인    50    1\n",
       "1  남자      전라북도  이메일광고   PC   사업자    25    1\n",
       "2  남자       경기도  SNS광고  모바일   사업자    40    1\n",
       "3  남자      경상북도  SNS광고   PC   사업자    40    1\n",
       "4  남자     부산광역시  블로그광고   PC   사업자    45    1"
      ]
     },
     "execution_count": 39,
     "metadata": {},
     "output_type": "execute_result"
    }
   ],
   "source": [
    "# 구매력 1, 0 인 데이터 concat\n",
    "member_encoding = pd.concat([merge_member_order, member_low], ignore_index=True)\n",
    "member_encoding.head()"
   ]
  },
  {
   "cell_type": "code",
   "execution_count": 40,
   "metadata": {},
   "outputs": [
    {
     "data": {
      "text/html": [
       "<div>\n",
       "<style scoped>\n",
       "    .dataframe tbody tr th:only-of-type {\n",
       "        vertical-align: middle;\n",
       "    }\n",
       "\n",
       "    .dataframe tbody tr th {\n",
       "        vertical-align: top;\n",
       "    }\n",
       "\n",
       "    .dataframe thead th {\n",
       "        text-align: right;\n",
       "    }\n",
       "</style>\n",
       "<table border=\"1\" class=\"dataframe\">\n",
       "  <thead>\n",
       "    <tr style=\"text-align: right;\">\n",
       "      <th></th>\n",
       "      <th>성별</th>\n",
       "      <th>연령대</th>\n",
       "      <th>유입경로</th>\n",
       "      <th>유입기기</th>\n",
       "      <th>구매력</th>\n",
       "    </tr>\n",
       "  </thead>\n",
       "  <tbody>\n",
       "    <tr>\n",
       "      <th>0</th>\n",
       "      <td>남자</td>\n",
       "      <td>50</td>\n",
       "      <td>블로그광고</td>\n",
       "      <td>모바일</td>\n",
       "      <td>1</td>\n",
       "    </tr>\n",
       "    <tr>\n",
       "      <th>1</th>\n",
       "      <td>남자</td>\n",
       "      <td>25</td>\n",
       "      <td>이메일광고</td>\n",
       "      <td>PC</td>\n",
       "      <td>1</td>\n",
       "    </tr>\n",
       "    <tr>\n",
       "      <th>2</th>\n",
       "      <td>남자</td>\n",
       "      <td>40</td>\n",
       "      <td>SNS광고</td>\n",
       "      <td>모바일</td>\n",
       "      <td>1</td>\n",
       "    </tr>\n",
       "    <tr>\n",
       "      <th>3</th>\n",
       "      <td>남자</td>\n",
       "      <td>40</td>\n",
       "      <td>SNS광고</td>\n",
       "      <td>PC</td>\n",
       "      <td>1</td>\n",
       "    </tr>\n",
       "    <tr>\n",
       "      <th>4</th>\n",
       "      <td>남자</td>\n",
       "      <td>45</td>\n",
       "      <td>블로그광고</td>\n",
       "      <td>PC</td>\n",
       "      <td>1</td>\n",
       "    </tr>\n",
       "  </tbody>\n",
       "</table>\n",
       "</div>"
      ],
      "text/plain": [
       "   성별  연령대   유입경로 유입기기  구매력\n",
       "0  남자   50  블로그광고  모바일    1\n",
       "1  남자   25  이메일광고   PC    1\n",
       "2  남자   40  SNS광고  모바일    1\n",
       "3  남자   40  SNS광고   PC    1\n",
       "4  남자   45  블로그광고   PC    1"
      ]
     },
     "execution_count": 40,
     "metadata": {},
     "output_type": "execute_result"
    }
   ],
   "source": [
    "# 필요한 변수 뽑아서 새로운 변수 데이터로 생성 및 열 이름 변경\n",
    "member_encoding2 = member_encoding[['성별', '나이묶음', '유입경로', '유입기기', '구매력']]\n",
    "member_encoding2.columns = ['성별', '연령대', '유입경로', '유입기기', '구매력']\n",
    "member_encoding2.head()"
   ]
  },
  {
   "attachments": {},
   "cell_type": "markdown",
   "metadata": {},
   "source": [
    "### 머신러닝 데이터로 전처리"
   ]
  },
  {
   "cell_type": "code",
   "execution_count": 41,
   "metadata": {},
   "outputs": [
    {
     "data": {
      "text/html": [
       "<div>\n",
       "<style scoped>\n",
       "    .dataframe tbody tr th:only-of-type {\n",
       "        vertical-align: middle;\n",
       "    }\n",
       "\n",
       "    .dataframe tbody tr th {\n",
       "        vertical-align: top;\n",
       "    }\n",
       "\n",
       "    .dataframe thead th {\n",
       "        text-align: right;\n",
       "    }\n",
       "</style>\n",
       "<table border=\"1\" class=\"dataframe\">\n",
       "  <thead>\n",
       "    <tr style=\"text-align: right;\">\n",
       "      <th></th>\n",
       "      <th>성별</th>\n",
       "      <th>주소(동/읍/면)</th>\n",
       "      <th>유입경로</th>\n",
       "      <th>유입기기</th>\n",
       "      <th>사업자구분</th>\n",
       "      <th>나이묶음</th>\n",
       "      <th>구매력</th>\n",
       "    </tr>\n",
       "  </thead>\n",
       "  <tbody>\n",
       "    <tr>\n",
       "      <th>0</th>\n",
       "      <td>0</td>\n",
       "      <td>13</td>\n",
       "      <td>2</td>\n",
       "      <td>1</td>\n",
       "      <td>0</td>\n",
       "      <td>50</td>\n",
       "      <td>1</td>\n",
       "    </tr>\n",
       "    <tr>\n",
       "      <th>1</th>\n",
       "      <td>0</td>\n",
       "      <td>13</td>\n",
       "      <td>5</td>\n",
       "      <td>0</td>\n",
       "      <td>1</td>\n",
       "      <td>25</td>\n",
       "      <td>1</td>\n",
       "    </tr>\n",
       "    <tr>\n",
       "      <th>2</th>\n",
       "      <td>0</td>\n",
       "      <td>1</td>\n",
       "      <td>0</td>\n",
       "      <td>1</td>\n",
       "      <td>1</td>\n",
       "      <td>40</td>\n",
       "      <td>1</td>\n",
       "    </tr>\n",
       "    <tr>\n",
       "      <th>3</th>\n",
       "      <td>0</td>\n",
       "      <td>3</td>\n",
       "      <td>0</td>\n",
       "      <td>0</td>\n",
       "      <td>1</td>\n",
       "      <td>40</td>\n",
       "      <td>1</td>\n",
       "    </tr>\n",
       "    <tr>\n",
       "      <th>4</th>\n",
       "      <td>0</td>\n",
       "      <td>7</td>\n",
       "      <td>2</td>\n",
       "      <td>0</td>\n",
       "      <td>1</td>\n",
       "      <td>45</td>\n",
       "      <td>1</td>\n",
       "    </tr>\n",
       "  </tbody>\n",
       "</table>\n",
       "</div>"
      ],
      "text/plain": [
       "   성별  주소(동/읍/면)  유입경로  유입기기  사업자구분  나이묶음  구매력\n",
       "0   0         13     2     1      0    50    1\n",
       "1   0         13     5     0      1    25    1\n",
       "2   0          1     0     1      1    40    1\n",
       "3   0          3     0     0      1    40    1\n",
       "4   0          7     2     0      1    45    1"
      ]
     },
     "execution_count": 41,
     "metadata": {},
     "output_type": "execute_result"
    }
   ],
   "source": [
    "# = encoder.inverse_transform(encoded)으로 원래대로 변경\n",
    "from sklearn.preprocessing import LabelEncoder\n",
    "\n",
    "encoder = LabelEncoder()\n",
    "member_encoding['주소(동/읍/면)'] = encoder.fit_transform(member_encoding['주소(동/읍/면)'])\n",
    "member_encoding['성별'] = encoder.fit_transform(member_encoding['성별'])\n",
    "member_encoding['유입경로'] = encoder.fit_transform(member_encoding['유입경로'])\n",
    "member_encoding['유입기기'] = encoder.fit_transform(member_encoding['유입기기'])\n",
    "member_encoding['사업자구분'] = encoder.fit_transform(member_encoding['사업자구분'])\n",
    "member_encoding.head()"
   ]
  },
  {
   "attachments": {},
   "cell_type": "markdown",
   "metadata": {},
   "source": [
    "### input 변수별 데이터프레임 나누기"
   ]
  },
  {
   "cell_type": "code",
   "execution_count": 42,
   "metadata": {},
   "outputs": [
    {
     "data": {
      "text/html": [
       "<div>\n",
       "<style scoped>\n",
       "    .dataframe tbody tr th:only-of-type {\n",
       "        vertical-align: middle;\n",
       "    }\n",
       "\n",
       "    .dataframe tbody tr th {\n",
       "        vertical-align: top;\n",
       "    }\n",
       "\n",
       "    .dataframe thead th {\n",
       "        text-align: right;\n",
       "    }\n",
       "</style>\n",
       "<table border=\"1\" class=\"dataframe\">\n",
       "  <thead>\n",
       "    <tr style=\"text-align: right;\">\n",
       "      <th></th>\n",
       "      <th>성별</th>\n",
       "      <th>나이묶음</th>\n",
       "      <th>구매력</th>\n",
       "      <th>유입경로</th>\n",
       "    </tr>\n",
       "  </thead>\n",
       "  <tbody>\n",
       "    <tr>\n",
       "      <th>0</th>\n",
       "      <td>0</td>\n",
       "      <td>50</td>\n",
       "      <td>1</td>\n",
       "      <td>2</td>\n",
       "    </tr>\n",
       "    <tr>\n",
       "      <th>1</th>\n",
       "      <td>0</td>\n",
       "      <td>25</td>\n",
       "      <td>1</td>\n",
       "      <td>5</td>\n",
       "    </tr>\n",
       "    <tr>\n",
       "      <th>2</th>\n",
       "      <td>0</td>\n",
       "      <td>40</td>\n",
       "      <td>1</td>\n",
       "      <td>0</td>\n",
       "    </tr>\n",
       "    <tr>\n",
       "      <th>3</th>\n",
       "      <td>0</td>\n",
       "      <td>40</td>\n",
       "      <td>1</td>\n",
       "      <td>0</td>\n",
       "    </tr>\n",
       "    <tr>\n",
       "      <th>4</th>\n",
       "      <td>0</td>\n",
       "      <td>45</td>\n",
       "      <td>1</td>\n",
       "      <td>2</td>\n",
       "    </tr>\n",
       "  </tbody>\n",
       "</table>\n",
       "</div>"
      ],
      "text/plain": [
       "   성별  나이묶음  구매력  유입경로\n",
       "0   0    50    1     2\n",
       "1   0    25    1     5\n",
       "2   0    40    1     0\n",
       "3   0    40    1     0\n",
       "4   0    45    1     2"
      ]
     },
     "execution_count": 42,
     "metadata": {},
     "output_type": "execute_result"
    }
   ],
   "source": [
    "# df1\n",
    "df1 = member_encoding[['성별', '나이묶음', '구매력', '유입경로']]\n",
    "df1.head()"
   ]
  },
  {
   "cell_type": "code",
   "execution_count": 43,
   "metadata": {},
   "outputs": [
    {
     "data": {
      "text/html": [
       "<div>\n",
       "<style scoped>\n",
       "    .dataframe tbody tr th:only-of-type {\n",
       "        vertical-align: middle;\n",
       "    }\n",
       "\n",
       "    .dataframe tbody tr th {\n",
       "        vertical-align: top;\n",
       "    }\n",
       "\n",
       "    .dataframe thead th {\n",
       "        text-align: right;\n",
       "    }\n",
       "</style>\n",
       "<table border=\"1\" class=\"dataframe\">\n",
       "  <thead>\n",
       "    <tr style=\"text-align: right;\">\n",
       "      <th></th>\n",
       "      <th>성별</th>\n",
       "      <th>연령대</th>\n",
       "      <th>유입기기</th>\n",
       "      <th>유입경로</th>\n",
       "      <th>구매력</th>\n",
       "    </tr>\n",
       "  </thead>\n",
       "  <tbody>\n",
       "    <tr>\n",
       "      <th>0</th>\n",
       "      <td>0</td>\n",
       "      <td>50</td>\n",
       "      <td>1</td>\n",
       "      <td>2</td>\n",
       "      <td>1</td>\n",
       "    </tr>\n",
       "    <tr>\n",
       "      <th>1</th>\n",
       "      <td>0</td>\n",
       "      <td>25</td>\n",
       "      <td>0</td>\n",
       "      <td>5</td>\n",
       "      <td>1</td>\n",
       "    </tr>\n",
       "    <tr>\n",
       "      <th>2</th>\n",
       "      <td>0</td>\n",
       "      <td>40</td>\n",
       "      <td>1</td>\n",
       "      <td>0</td>\n",
       "      <td>1</td>\n",
       "    </tr>\n",
       "    <tr>\n",
       "      <th>3</th>\n",
       "      <td>0</td>\n",
       "      <td>40</td>\n",
       "      <td>0</td>\n",
       "      <td>0</td>\n",
       "      <td>1</td>\n",
       "    </tr>\n",
       "    <tr>\n",
       "      <th>4</th>\n",
       "      <td>0</td>\n",
       "      <td>45</td>\n",
       "      <td>0</td>\n",
       "      <td>2</td>\n",
       "      <td>1</td>\n",
       "    </tr>\n",
       "  </tbody>\n",
       "</table>\n",
       "</div>"
      ],
      "text/plain": [
       "   성별  연령대  유입기기  유입경로  구매력\n",
       "0   0   50     1     2    1\n",
       "1   0   25     0     5    1\n",
       "2   0   40     1     0    1\n",
       "3   0   40     0     0    1\n",
       "4   0   45     0     2    1"
      ]
     },
     "execution_count": 43,
     "metadata": {},
     "output_type": "execute_result"
    }
   ],
   "source": [
    "# df2\n",
    "df2 = member_encoding[['성별', '나이묶음', '유입기기', '유입경로', '구매력']]\n",
    "df2.columns = ['성별', '연령대', '유입기기', '유입경로', '구매력']\n",
    "df2.head()"
   ]
  },
  {
   "cell_type": "code",
   "execution_count": 44,
   "metadata": {},
   "outputs": [],
   "source": [
    "# 주소 / 사업자구분 추가한다면?\n",
    "df3 = member_encoding[['성별', '나이묶음', '주소(동/읍/면)' ,'구매력', '유입경로', '유입기기', '사업자구분']]"
   ]
  },
  {
   "attachments": {},
   "cell_type": "markdown",
   "metadata": {},
   "source": [
    "### 머신러닝 모델링"
   ]
  },
  {
   "cell_type": "code",
   "execution_count": 45,
   "metadata": {},
   "outputs": [],
   "source": [
    "# input, target data 설정\n",
    "X = df1[['성별', '나이묶음', '유입경로']]\n",
    "y = df1[['구매력']]"
   ]
  },
  {
   "cell_type": "code",
   "execution_count": 46,
   "metadata": {},
   "outputs": [],
   "source": [
    "# train, test 세트 분리\n",
    "from sklearn.model_selection import train_test_split\n",
    "\n",
    "X_tn, X_te, y_tn, y_te = train_test_split(X, y, test_size=0.2, random_state=0)"
   ]
  },
  {
   "cell_type": "code",
   "execution_count": 47,
   "metadata": {},
   "outputs": [],
   "source": [
    "# 데이터 표준화\n",
    "from sklearn.preprocessing import StandardScaler\n",
    "\n",
    "std_Scale = StandardScaler()\n",
    "\n",
    "std_Scale.fit(X_tn)\n",
    "X_tn_std = std_Scale.transform(X_tn)\n",
    "X_te_std = std_Scale.transform(X_te)"
   ]
  },
  {
   "cell_type": "code",
   "execution_count": 48,
   "metadata": {},
   "outputs": [
    {
     "name": "stderr",
     "output_type": "stream",
     "text": [
      "C:\\Users\\jhc74\\AppData\\Local\\Temp\\ipykernel_14516\\3296086693.py:5: DataConversionWarning: A column-vector y was passed when a 1d array was expected. Please change the shape of y to (n_samples,), for example using ravel().\n",
      "  clf_rf.fit(X_tn, y_tn)\n"
     ]
    },
    {
     "data": {
      "text/plain": [
       "RandomForestClassifier(max_depth=9, n_estimators=8, random_state=0)"
      ]
     },
     "execution_count": 48,
     "metadata": {},
     "output_type": "execute_result"
    }
   ],
   "source": [
    "# ensemble 모델 설정 (rf)\n",
    "from sklearn.ensemble import RandomForestClassifier\n",
    "\n",
    "clf_rf = RandomForestClassifier(random_state=0, max_depth=9, n_estimators=8)\n",
    "clf_rf.fit(X_tn, y_tn)"
   ]
  },
  {
   "cell_type": "code",
   "execution_count": 49,
   "metadata": {},
   "outputs": [],
   "source": [
    "# 예측값 변수 생성\n",
    "pred_rf = clf_rf.predict(X_te)"
   ]
  },
  {
   "cell_type": "code",
   "execution_count": 50,
   "metadata": {},
   "outputs": [
    {
     "data": {
      "text/plain": [
       "0.7869496855345912"
      ]
     },
     "execution_count": 50,
     "metadata": {},
     "output_type": "execute_result"
    }
   ],
   "source": [
    "# 정확도 변수 생성\n",
    "from sklearn.metrics import accuracy_score\n",
    "\n",
    "accuracy = accuracy_score(y_te, pred_rf)\n",
    "accuracy"
   ]
  },
  {
   "cell_type": "code",
   "execution_count": 51,
   "metadata": {},
   "outputs": [
    {
     "name": "stdout",
     "output_type": "stream",
     "text": [
      "훈련 0.7883254716981132\n",
      "테스트 0.7869496855345912\n"
     ]
    }
   ],
   "source": [
    "# 결과 출력\n",
    "print('훈련', clf_rf.score(X_tn, y_tn)) \n",
    "print('테스트', clf_rf.score(X_te, y_te))"
   ]
  },
  {
   "attachments": {},
   "cell_type": "markdown",
   "metadata": {},
   "source": [
    "### Feature Importance 시각화"
   ]
  },
  {
   "cell_type": "code",
   "execution_count": 52,
   "metadata": {},
   "outputs": [
    {
     "data": {
      "text/plain": [
       "<AxesSubplot:>"
      ]
     },
     "execution_count": 52,
     "metadata": {},
     "output_type": "execute_result"
    },
    {
     "data": {
      "image/png": "[encoded data removed]",
      "text/plain": [
       "<Figure size 640x480 with 1 Axes>"
      ]
     },
     "metadata": {},
     "output_type": "display_data"
    }
   ],
   "source": [
    "# 막대 그래프 설정\n",
    "import seaborn as sns\n",
    "importance = clf_rf.feature_importances_\n",
    "sns.barplot(x = X.columns, y = importance)"
   ]
  },
  {
   "cell_type": "code",
   "execution_count": 53,
   "metadata": {},
   "outputs": [
    {
     "name": "stdout",
     "output_type": "stream",
     "text": [
      "훈련 0.7854896675651393\n",
      "테스트 0.7940251572327044\n"
     ]
    },
    {
     "name": "stderr",
     "output_type": "stream",
     "text": [
      "C:\\Users\\jhc74\\AppData\\Local\\Temp\\ipykernel_14516\\1887128916.py:17: DataConversionWarning: A column-vector y was passed when a 1d array was expected. Please change the shape of y to (n_samples,), for example using ravel().\n",
      "  clf_rf.fit(X_tn_std, y_tn)\n"
     ]
    }
   ],
   "source": [
    "# df1\n",
    "\n",
    "# input, target data 설정\n",
    "\n",
    "X = df1[['성별', '나이묶음', '유입경로']]\n",
    "y = df1[['구매력']]\n",
    "\n",
    "X_tn, X_te, y_tn, y_te = train_test_split(X, y, test_size=0.3, random_state=0)\n",
    "\n",
    "# 데이터 표준화\n",
    "\n",
    "std_Scale.fit(X_tn)\n",
    "X_tn_std = std_Scale.transform(X_tn)\n",
    "X_te_std = std_Scale.transform(X_te)\n",
    "\n",
    "clf_rf = RandomForestClassifier(random_state=0, max_depth=5)\n",
    "clf_rf.fit(X_tn_std, y_tn)\n",
    "\n",
    "pred_rf = clf_rf.predict(X_te_std)\n",
    "\n",
    "accuracy = accuracy_score(y_te, pred_rf)\n",
    "\n",
    "print('훈련', clf_rf.score(X_tn_std, y_tn)) \n",
    "print('테스트', clf_rf.score(X_te_std, y_te))"
   ]
  },
  {
   "cell_type": "code",
   "execution_count": 54,
   "metadata": {},
   "outputs": [
    {
     "data": {
      "text/plain": [
       "<AxesSubplot:>"
      ]
     },
     "execution_count": 54,
     "metadata": {},
     "output_type": "execute_result"
    },
    {
     "data": {
      "image/png": "[encoded data removed]",
      "text/plain": [
       "<Figure size 640x480 with 1 Axes>"
      ]
     },
     "metadata": {},
     "output_type": "display_data"
    }
   ],
   "source": [
    "importance = clf_rf.feature_importances_\n",
    "sns.barplot(x = X.columns, y = importance)"
   ]
  },
  {
   "cell_type": "code",
   "execution_count": 55,
   "metadata": {},
   "outputs": [
    {
     "name": "stderr",
     "output_type": "stream",
     "text": [
      "C:\\Users\\jhc74\\AppData\\Local\\Temp\\ipykernel_14516\\179369455.py:17: DataConversionWarning: A column-vector y was passed when a 1d array was expected. Please change the shape of y to (n_samples,), for example using ravel().\n",
      "  clf_rf.fit(X_tn_std, y_tn)\n"
     ]
    },
    {
     "name": "stdout",
     "output_type": "stream",
     "text": [
      "훈련 0.7857142857142857\n",
      "테스트 0.7935010482180294\n"
     ]
    }
   ],
   "source": [
    "# df2\n",
    "\n",
    "# input, target data 설정\n",
    "\n",
    "X = df2[['성별', '연령대', '유입경로']]\n",
    "y = df2[['구매력']]\n",
    "\n",
    "X_tn, X_te, y_tn, y_te = train_test_split(X, y, test_size=0.3, random_state=0)\n",
    "\n",
    "# 데이터 표준화\n",
    "\n",
    "std_Scale.fit(X_tn)\n",
    "X_tn_std = std_Scale.transform(X_tn)\n",
    "X_te_std = std_Scale.transform(X_te)\n",
    "\n",
    "clf_rf = RandomForestClassifier(random_state=0, max_depth=8)\n",
    "clf_rf.fit(X_tn_std, y_tn)\n",
    "\n",
    "pred_rf = clf_rf.predict(X_te_std)\n",
    "\n",
    "accuracy = accuracy_score(y_te, pred_rf)\n",
    "\n",
    "print('훈련', clf_rf.score(X_tn_std, y_tn)) \n",
    "print('테스트', clf_rf.score(X_te_std, y_te))"
   ]
  },
  {
   "cell_type": "code",
   "execution_count": 56,
   "metadata": {},
   "outputs": [
    {
     "data": {
      "text/plain": [
       "Text(0.5, 0, 'RandomForestClassifier')"
      ]
     },
     "execution_count": 56,
     "metadata": {},
     "output_type": "execute_result"
    },
    {
     "data": {
      "image/png": "[encoded data removed]",
      "text/plain": [
       "<Figure size 640x480 with 1 Axes>"
      ]
     },
     "metadata": {},
     "output_type": "display_data"
    }
   ],
   "source": [
    "importance = clf_rf.feature_importances_\n",
    "sns.barplot(x = X.columns, y = importance)\n",
    "plt.xlabel('RandomForestClassifier', size = 14)"
   ]
  },
  {
   "cell_type": "code",
   "execution_count": 57,
   "metadata": {},
   "outputs": [
    {
     "name": "stderr",
     "output_type": "stream",
     "text": [
      "C:\\Users\\jhc74\\AppData\\Local\\Temp\\ipykernel_14516\\2906010550.py:17: DataConversionWarning: A column-vector y was passed when a 1d array was expected. Please change the shape of y to (n_samples,), for example using ravel().\n",
      "  clf_rf.fit(X_tn_std, y_tn)\n"
     ]
    },
    {
     "name": "stdout",
     "output_type": "stream",
     "text": [
      "훈련 0.8407457322551662\n",
      "테스트 0.8333333333333334\n"
     ]
    }
   ],
   "source": [
    "# df3\n",
    "\n",
    "# input, target data 설정\n",
    "\n",
    "X = df3[['성별', '나이묶음', '주소(동/읍/면)', '유입경로', '유입기기', '사업자구분']]\n",
    "y = df3[['구매력']]\n",
    "\n",
    "X_tn, X_te, y_tn, y_te = train_test_split(X, y, test_size=0.3, random_state=0)\n",
    "\n",
    "# 데이터 표준화\n",
    "\n",
    "std_Scale.fit(X_tn)\n",
    "X_tn_std = std_Scale.transform(X_tn)\n",
    "X_te_std = std_Scale.transform(X_te)\n",
    "\n",
    "clf_rf = RandomForestClassifier(random_state=0, max_depth=5)\n",
    "clf_rf.fit(X_tn_std, y_tn)\n",
    "\n",
    "pred_rf = clf_rf.predict(X_te_std)\n",
    "\n",
    "accuracy = accuracy_score(y_te, pred_rf)\n",
    "\n",
    "print('훈련', clf_rf.score(X_tn_std, y_tn)) \n",
    "print('테스트', clf_rf.score(X_te_std, y_te))"
   ]
  },
  {
   "cell_type": "code",
   "execution_count": 58,
   "metadata": {},
   "outputs": [
    {
     "data": {
      "text/plain": [
       "<AxesSubplot:>"
      ]
     },
     "execution_count": 58,
     "metadata": {},
     "output_type": "execute_result"
    },
    {
     "data": {
      "image/png": "[encoded data removed]",
      "text/plain": [
       "<Figure size 640x480 with 1 Axes>"
      ]
     },
     "metadata": {},
     "output_type": "display_data"
    }
   ],
   "source": [
    "importance = clf_rf.feature_importances_\n",
    "sns.barplot(x = X.columns, y = importance)"
   ]
  },
  {
   "cell_type": "code",
   "execution_count": 59,
   "metadata": {},
   "outputs": [
    {
     "name": "stderr",
     "output_type": "stream",
     "text": [
      "c:\\Users\\jhc74\\anaconda3\\lib\\site-packages\\sklearn\\ensemble\\_gb.py:494: DataConversionWarning: A column-vector y was passed when a 1d array was expected. Please change the shape of y to (n_samples, ), for example using ravel().\n",
      "  y = column_or_1d(y, warn=True)\n"
     ]
    },
    {
     "name": "stdout",
     "output_type": "stream",
     "text": [
      "훈련 0.7883254716981132\n",
      "테스트 0.7877358490566038\n"
     ]
    }
   ],
   "source": [
    "### gbrt\n",
    "\n",
    "from sklearn.ensemble import GradientBoostingClassifier\n",
    "\n",
    "X = df2[['성별', '연령대', '유입경로']]\n",
    "y = df2[['구매력']]\n",
    "\n",
    "X_tn, X_te, y_tn, y_te = train_test_split(X, y, test_size=0.2, random_state=0)\n",
    "\n",
    "std_Scale.fit(X_tn)\n",
    "X_tn_std = std_Scale.transform(X_tn)\n",
    "X_te_std = std_Scale.transform(X_te)\n",
    "\n",
    "gbrt = GradientBoostingClassifier(random_state=0, max_depth=5)\n",
    "gbrt.fit(X_tn_std, y_tn)\n",
    "\n",
    "print('훈련', gbrt.score(X_tn_std, y_tn)) \n",
    "print('테스트', gbrt.score(X_te_std, y_te))"
   ]
  },
  {
   "cell_type": "code",
   "execution_count": 60,
   "metadata": {},
   "outputs": [
    {
     "data": {
      "text/plain": [
       "Text(0.5, 0, 'GradientBoostingClassifier')"
      ]
     },
     "execution_count": 60,
     "metadata": {},
     "output_type": "execute_result"
    },
    {
     "data": {
      "image/png": "[encoded data removed]",
      "text/plain": [
       "<Figure size 640x480 with 1 Axes>"
      ]
     },
     "metadata": {},
     "output_type": "display_data"
    }
   ],
   "source": [
    "importance = gbrt.feature_importances_\n",
    "sns.barplot(x = X.columns, y = importance)\n",
    "plt.xlabel('GradientBoostingClassifier', size = 14)"
   ]
  },
  {
   "cell_type": "code",
   "execution_count": 61,
   "metadata": {},
   "outputs": [
    {
     "name": "stderr",
     "output_type": "stream",
     "text": [
      "c:\\Users\\jhc74\\anaconda3\\lib\\site-packages\\sklearn\\ensemble\\_gb.py:494: DataConversionWarning: A column-vector y was passed when a 1d array was expected. Please change the shape of y to (n_samples, ), for example using ravel().\n",
      "  y = column_or_1d(y, warn=True)\n"
     ]
    },
    {
     "name": "stdout",
     "output_type": "stream",
     "text": [
      "훈련 0.8545597484276729\n",
      "테스트 0.8309748427672956\n"
     ]
    }
   ],
   "source": [
    "### gbrt\n",
    "\n",
    "from sklearn.ensemble import GradientBoostingClassifier\n",
    "\n",
    "X = df3[['성별', '나이묶음', '주소(동/읍/면)', '유입경로']]\n",
    "y = df3[['구매력']]\n",
    "\n",
    "X_tn, X_te, y_tn, y_te = train_test_split(X, y, test_size=0.2, random_state=0)\n",
    "\n",
    "std_Scale.fit(X_tn)\n",
    "X_tn_std = std_Scale.transform(X_tn)\n",
    "X_te_std = std_Scale.transform(X_te)\n",
    "\n",
    "gbrt = GradientBoostingClassifier(random_state=0, max_depth=8)\n",
    "gbrt.fit(X_tn_std, y_tn)\n",
    "\n",
    "print('훈련', gbrt.score(X_tn_std, y_tn))\n",
    "print('테스트', gbrt.score(X_te_std, y_te))"
   ]
  },
  {
   "cell_type": "code",
   "execution_count": 62,
   "metadata": {},
   "outputs": [
    {
     "data": {
      "text/plain": [
       "<AxesSubplot:>"
      ]
     },
     "execution_count": 62,
     "metadata": {},
     "output_type": "execute_result"
    },
    {
     "data": {
      "image/png": "[encoded data removed]",
      "text/plain": [
       "<Figure size 640x480 with 1 Axes>"
      ]
     },
     "metadata": {},
     "output_type": "display_data"
    }
   ],
   "source": [
    "importance = gbrt.feature_importances_\n",
    "sns.barplot(x = X.columns, y = importance)"
   ]
  },
  {
   "attachments": {},
   "cell_type": "markdown",
   "metadata": {},
   "source": [
    "### 다른 모델들의 정확도 확인"
   ]
  },
  {
   "cell_type": "code",
   "execution_count": 63,
   "metadata": {},
   "outputs": [],
   "source": [
    "from sklearn.metrics import accuracy_score, log_loss\n",
    "from sklearn.neighbors import KNeighborsClassifier\n",
    "from sklearn.svm import SVC, LinearSVC, NuSVC\n",
    "from sklearn.tree import DecisionTreeClassifier\n",
    "from sklearn.ensemble import RandomForestClassifier, AdaBoostClassifier, GradientBoostingClassifier\n",
    "from sklearn.naive_bayes import GaussianNB\n",
    "from sklearn.discriminant_analysis import LinearDiscriminantAnalysis\n",
    "from sklearn.discriminant_analysis import QuadraticDiscriminantAnalysis\n",
    "\n",
    "clf_KNC = KNeighborsClassifier(3)\n",
    "clf_SVC = SVC(kernel=\"rbf\", C=0.025, probability=True)\n",
    "clf_NuSVC = NuSVC(probability=True)\n",
    "clf_DTC = DecisionTreeClassifier()\n",
    "clf_RF = RandomForestClassifier()\n",
    "clf_Ada = AdaBoostClassifier()\n",
    "clf_GB = GradientBoostingClassifier()\n",
    "clf_GNB = GaussianNB()\n",
    "clf_LDA = LinearDiscriminantAnalysis()\n",
    "clf_QDA = QuadraticDiscriminantAnalysis()\n",
    "\n",
    "X = df2[['성별', '연령대', '유입경로']]\n",
    "y = df2[['구매력']]\n",
    "\n",
    "X_tn, X_te, y_tn, y_te = train_test_split(X, y, test_size=0.2, random_state=0)\n",
    "\n",
    "std_Scale.fit(X_tn)\n",
    "X_tn_std = std_Scale.transform(X_tn)\n",
    "X_te_std = std_Scale.transform(X_te)"
   ]
  },
  {
   "cell_type": "code",
   "execution_count": 64,
   "metadata": {},
   "outputs": [
    {
     "name": "stderr",
     "output_type": "stream",
     "text": [
      "c:\\Users\\jhc74\\anaconda3\\lib\\site-packages\\sklearn\\utils\\validation.py:993: DataConversionWarning: A column-vector y was passed when a 1d array was expected. Please change the shape of y to (n_samples, ), for example using ravel().\n",
      "  y = column_or_1d(y, warn=True)\n"
     ]
    },
    {
     "name": "stdout",
     "output_type": "stream",
     "text": [
      "SVC\n",
      "Accuracy: 76.1006%\n"
     ]
    },
    {
     "data": {
      "text/plain": [
       "Text(0.5, 0, 'SVC')"
      ]
     },
     "execution_count": 64,
     "metadata": {},
     "output_type": "execute_result"
    },
    {
     "data": {
      "image/png": "[encoded data removed]",
      "text/plain": [
       "<Figure size 640x480 with 1 Axes>"
      ]
     },
     "metadata": {},
     "output_type": "display_data"
    }
   ],
   "source": [
    "from sklearn.inspection import permutation_importance\n",
    "import numpy as np\n",
    "\n",
    "clf_SVC.fit(X_tn_std, y_tn)\n",
    "name = clf_SVC.__class__.__name__\n",
    "\n",
    "print(name)\n",
    "train_predictions = clf_SVC.predict(X_te_std)\n",
    "acc = accuracy_score(y_te, train_predictions)\n",
    "print(\"Accuracy: {:.4%}\".format(acc))\n",
    "\n",
    "perm_importance = permutation_importance(clf_SVC, X_te_std, y_te)\n",
    "\n",
    "feature_names = ['성별', '연령대', '유입경로']\n",
    "features = np.array(feature_names)\n",
    "\n",
    "sorted_idx = perm_importance.importances_mean.argsort()\n",
    "sns.barplot(x = [features[sorted_idx][2], features[sorted_idx][0], features[sorted_idx][1]], y = [perm_importance.importances_mean[sorted_idx][2], perm_importance.importances_mean[sorted_idx][0], perm_importance.importances_mean[sorted_idx][1]])\n",
    "plt.xlabel(name, size = 14)"
   ]
  },
  {
   "cell_type": "code",
   "execution_count": 65,
   "metadata": {},
   "outputs": [
    {
     "name": "stdout",
     "output_type": "stream",
     "text": [
      "AdaBoostClassifier\n",
      "Accuracy: 78.3019%\n"
     ]
    },
    {
     "name": "stderr",
     "output_type": "stream",
     "text": [
      "c:\\Users\\jhc74\\anaconda3\\lib\\site-packages\\sklearn\\utils\\validation.py:993: DataConversionWarning: A column-vector y was passed when a 1d array was expected. Please change the shape of y to (n_samples, ), for example using ravel().\n",
      "  y = column_or_1d(y, warn=True)\n"
     ]
    },
    {
     "data": {
      "text/plain": [
       "Text(0.5, 0, 'AdaBoostClassifier')"
      ]
     },
     "execution_count": 65,
     "metadata": {},
     "output_type": "execute_result"
    },
    {
     "data": {
      "image/png": "[encoded data removed]",
      "text/plain": [
       "<Figure size 640x480 with 1 Axes>"
      ]
     },
     "metadata": {},
     "output_type": "display_data"
    }
   ],
   "source": [
    "clf_Ada.fit(X_tn_std, y_tn)\n",
    "name = clf_Ada.__class__.__name__\n",
    "\n",
    "print(name)\n",
    "train_predictions = clf_Ada.predict(X_te_std)\n",
    "acc = accuracy_score(y_te, train_predictions)\n",
    "print(\"Accuracy: {:.4%}\".format(acc))\n",
    "\n",
    "importance = clf_Ada.feature_importances_\n",
    "sns.barplot(x = X.columns, y = importance)\n",
    "plt.xlabel(name, size = 14)"
   ]
  },
  {
   "cell_type": "code",
   "execution_count": 66,
   "metadata": {},
   "outputs": [
    {
     "name": "stdout",
     "output_type": "stream",
     "text": [
      "[-0.00424528  0.04166667 -0.01981132]\n"
     ]
    },
    {
     "name": "stderr",
     "output_type": "stream",
     "text": [
      "c:\\Users\\jhc74\\anaconda3\\lib\\site-packages\\sklearn\\utils\\validation.py:993: DataConversionWarning: A column-vector y was passed when a 1d array was expected. Please change the shape of y to (n_samples, ), for example using ravel().\n",
      "  y = column_or_1d(y, warn=True)\n"
     ]
    },
    {
     "data": {
      "text/plain": [
       "<AxesSubplot:>"
      ]
     },
     "execution_count": 66,
     "metadata": {},
     "output_type": "execute_result"
    },
    {
     "data": {
      "image/png": "[encoded data removed]",
      "text/plain": [
       "<Figure size 640x480 with 1 Axes>"
      ]
     },
     "metadata": {},
     "output_type": "display_data"
    }
   ],
   "source": [
    "from sklearn.inspection import permutation_importance\n",
    "\n",
    "clf_GNB.fit(X_tn_std, y_tn)\n",
    "\n",
    "imps = permutation_importance(clf_GNB, X_te_std, y_te)\n",
    "print(imps.importances_mean)\n",
    "sns.barplot(x = ['성별', '연령대', '유입경로'], y = imps.importances_mean)"
   ]
  },
  {
   "cell_type": "code",
   "execution_count": null,
   "metadata": {},
   "outputs": [],
   "source": []
  }
 ],
 "metadata": {
  "kernelspec": {
   "display_name": "Python 3.9.13 ('base')",
   "language": "python",
   "name": "python3"
  },
  "language_info": {
   "codemirror_mode": {
    "name": "ipython",
    "version": 3
   },
   "file_extension": ".py",
   "mimetype": "text/x-python",
   "name": "python",
   "nbconvert_exporter": "python",
   "pygments_lexer": "ipython3",
   "version": "3.9.13"
  },
  "orig_nbformat": 4,
  "vscode": {
   "interpreter": {
    "hash": "567a69f9db2237ae3b63fa7d6e4b5b1582176c30604f6fc7337a39c1a701d067"
   }
  }
 },
 "nbformat": 4,
 "nbformat_minor": 2
}
